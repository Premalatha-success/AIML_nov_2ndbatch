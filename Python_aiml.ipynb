{
 "cells": [
  {
   "cell_type": "code",
   "execution_count": 1,
   "id": "29f06b0c-a813-4774-8a78-989c2dce9bce",
   "metadata": {},
   "outputs": [
    {
     "name": "stdout",
     "output_type": "stream",
     "text": [
      "hello World\n"
     ]
    }
   ],
   "source": [
    "print(\"hello World\")"
   ]
  },
  {
   "cell_type": "code",
   "execution_count": 9,
   "id": "55d9b08a-df53-497e-8b5c-2e28c360165b",
   "metadata": {},
   "outputs": [
    {
     "data": {
      "text/plain": [
       "int"
      ]
     },
     "execution_count": 9,
     "metadata": {},
     "output_type": "execute_result"
    }
   ],
   "source": [
    "x=10\n",
    "type(x)"
   ]
  },
  {
   "cell_type": "code",
   "execution_count": 11,
   "id": "a4621e1c-ff76-4884-9c4e-566a16d87cf1",
   "metadata": {},
   "outputs": [
    {
     "data": {
      "text/plain": [
       "float"
      ]
     },
     "execution_count": 11,
     "metadata": {},
     "output_type": "execute_result"
    }
   ],
   "source": [
    "y=10.5\n",
    "type(y)"
   ]
  },
  {
   "cell_type": "code",
   "execution_count": 12,
   "id": "ec441148-5662-4f6b-9407-e1a558c0509f",
   "metadata": {},
   "outputs": [
    {
     "data": {
      "text/plain": [
       "str"
      ]
     },
     "execution_count": 12,
     "metadata": {},
     "output_type": "execute_result"
    }
   ],
   "source": [
    "course=\"Python\"\n",
    "type(course)"
   ]
  },
  {
   "cell_type": "markdown",
   "id": "f838c61e-700a-487c-b237-10214d1c0650",
   "metadata": {},
   "source": [
    "### Machine Learning Packages"
   ]
  },
  {
   "cell_type": "markdown",
   "id": "60b72da5-504d-4346-9517-20f3cd62fb20",
   "metadata": {},
   "source": [
    "#### Numpy ->Numerical Python ->Numbers\n",
    "#### Pandas->dataset or data manipulation\n",
    "#### Matplotlib ->Data visualization\n",
    "#### Seaborn->data Visualization"
   ]
  },
  {
   "cell_type": "code",
   "execution_count": 13,
   "id": "8f56d8d8-6973-47bc-81ba-56f17848c8b9",
   "metadata": {},
   "outputs": [],
   "source": [
    "import numpy as np\n",
    "import pandas as pd\n",
    "import matplotlib.pyplot as plt\n",
    "import seaborn as sns"
   ]
  },
  {
   "cell_type": "code",
   "execution_count": 14,
   "id": "bd2595c1-6578-463e-a524-da3fa04b7925",
   "metadata": {},
   "outputs": [
    {
     "data": {
      "text/plain": [
       "array([ 1,  2,  3,  4,  5,  6,  7,  8,  9, 10, 11, 12, 13, 14, 15, 16, 17,\n",
       "       18, 19, 20, 21, 22, 23, 24, 25, 26, 27, 28, 29, 30, 31, 32, 33, 34,\n",
       "       35, 36, 37, 38, 39, 40, 41, 42, 43, 44, 45, 46, 47, 48, 49])"
      ]
     },
     "execution_count": 14,
     "metadata": {},
     "output_type": "execute_result"
    }
   ],
   "source": [
    "np.arange(1,50)"
   ]
  },
  {
   "cell_type": "code",
   "execution_count": 15,
   "id": "8c795d59-d2b6-4bb5-8629-db6ad9e5918a",
   "metadata": {},
   "outputs": [
    {
     "data": {
      "text/plain": [
       "array([ 1,  4,  7, 10, 13, 16, 19, 22, 25, 28, 31, 34, 37, 40, 43, 46, 49])"
      ]
     },
     "execution_count": 15,
     "metadata": {},
     "output_type": "execute_result"
    }
   ],
   "source": [
    "np.arange(1,50,3)"
   ]
  },
  {
   "cell_type": "code",
   "execution_count": 16,
   "id": "7e25486d-9ab6-43c7-b708-f2d111763d85",
   "metadata": {},
   "outputs": [
    {
     "data": {
      "text/plain": [
       "array([ 0,  1,  2,  3,  4,  5,  6,  7,  8,  9, 10, 11, 12, 13, 14, 15, 16,\n",
       "       17, 18, 19, 20, 21, 22, 23, 24, 25, 26, 27, 28, 29, 30, 31, 32, 33,\n",
       "       34, 35, 36, 37, 38, 39, 40, 41, 42, 43, 44, 45, 46, 47, 48, 49])"
      ]
     },
     "execution_count": 16,
     "metadata": {},
     "output_type": "execute_result"
    }
   ],
   "source": [
    "np.arange(50)"
   ]
  },
  {
   "cell_type": "code",
   "execution_count": 18,
   "id": "00662030-2980-424d-9790-e51522632018",
   "metadata": {},
   "outputs": [
    {
     "data": {
      "text/plain": [
       "array([0, 0, 0, 0, 0, 0, 0, 0, 0, 0])"
      ]
     },
     "execution_count": 18,
     "metadata": {},
     "output_type": "execute_result"
    }
   ],
   "source": [
    "np.zeros(10,int)"
   ]
  },
  {
   "cell_type": "code",
   "execution_count": 19,
   "id": "f2df1f07-091c-4c8f-8613-29ec26307abf",
   "metadata": {},
   "outputs": [
    {
     "data": {
      "text/plain": [
       "array([1., 1., 1., 1., 1., 1., 1., 1., 1., 1., 1., 1., 1., 1., 1.])"
      ]
     },
     "execution_count": 19,
     "metadata": {},
     "output_type": "execute_result"
    }
   ],
   "source": [
    "### create 15 1's\n",
    "np.ones(15)"
   ]
  },
  {
   "cell_type": "code",
   "execution_count": 20,
   "id": "332fb961-d14c-40ea-8626-245cd149b919",
   "metadata": {},
   "outputs": [
    {
     "data": {
      "text/plain": [
       "array([ 1,  2,  3,  4,  5,  6,  7,  8,  9, 10, 11, 12, 13, 14, 15, 16, 17,\n",
       "       18, 19, 20, 21, 22, 23, 24, 25, 26, 27, 28, 29, 30])"
      ]
     },
     "execution_count": 20,
     "metadata": {},
     "output_type": "execute_result"
    }
   ],
   "source": [
    "sample=np.arange(1,31)\n",
    "sample"
   ]
  },
  {
   "cell_type": "code",
   "execution_count": 21,
   "id": "9d2bd560-2e48-495f-86b0-991f35b2eaea",
   "metadata": {},
   "outputs": [
    {
     "data": {
      "text/plain": [
       "30"
      ]
     },
     "execution_count": 21,
     "metadata": {},
     "output_type": "execute_result"
    }
   ],
   "source": [
    "sample.max()"
   ]
  },
  {
   "cell_type": "code",
   "execution_count": 22,
   "id": "68462909-605e-4b2b-a58e-c9db212b8d50",
   "metadata": {},
   "outputs": [
    {
     "data": {
      "text/plain": [
       "1"
      ]
     },
     "execution_count": 22,
     "metadata": {},
     "output_type": "execute_result"
    }
   ],
   "source": [
    "sample.min()"
   ]
  },
  {
   "cell_type": "code",
   "execution_count": 23,
   "id": "72036cc1-3ec6-4b0f-91ea-41ef3c2d03dc",
   "metadata": {},
   "outputs": [
    {
     "data": {
      "text/plain": [
       "15.5"
      ]
     },
     "execution_count": 23,
     "metadata": {},
     "output_type": "execute_result"
    }
   ],
   "source": [
    "sample.mean()"
   ]
  },
  {
   "cell_type": "code",
   "execution_count": 24,
   "id": "7fd13e8f-a44e-458b-993b-7f44acba38ae",
   "metadata": {},
   "outputs": [
    {
     "data": {
      "text/plain": [
       "8.65544144839919"
      ]
     },
     "execution_count": 24,
     "metadata": {},
     "output_type": "execute_result"
    }
   ],
   "source": [
    "sample.std()"
   ]
  },
  {
   "cell_type": "code",
   "execution_count": 25,
   "id": "4d3d75e3-c29f-479d-99c6-3fb2bca4d59e",
   "metadata": {},
   "outputs": [
    {
     "data": {
      "text/plain": [
       "74.91666666666667"
      ]
     },
     "execution_count": 25,
     "metadata": {},
     "output_type": "execute_result"
    }
   ],
   "source": [
    "sample.var()"
   ]
  },
  {
   "cell_type": "code",
   "execution_count": 26,
   "id": "6ca521bd-0cb2-4099-b4cd-a015019d6c31",
   "metadata": {},
   "outputs": [
    {
     "data": {
      "text/plain": [
       "array([  1,   4,   9,  16,  25,  36,  49,  64,  81, 100, 121, 144, 169,\n",
       "       196, 225, 256, 289, 324, 361, 400, 441, 484, 529, 576, 625, 676,\n",
       "       729, 784, 841, 900])"
      ]
     },
     "execution_count": 26,
     "metadata": {},
     "output_type": "execute_result"
    }
   ],
   "source": [
    "np.square(sample)"
   ]
  },
  {
   "cell_type": "code",
   "execution_count": 27,
   "id": "2358b673-2f27-45b8-a0b7-e2924b535638",
   "metadata": {},
   "outputs": [
    {
     "data": {
      "text/plain": [
       "array([1.        , 1.41421356, 1.73205081, 2.        , 2.23606798,\n",
       "       2.44948974, 2.64575131, 2.82842712, 3.        , 3.16227766,\n",
       "       3.31662479, 3.46410162, 3.60555128, 3.74165739, 3.87298335,\n",
       "       4.        , 4.12310563, 4.24264069, 4.35889894, 4.47213595,\n",
       "       4.58257569, 4.69041576, 4.79583152, 4.89897949, 5.        ,\n",
       "       5.09901951, 5.19615242, 5.29150262, 5.38516481, 5.47722558])"
      ]
     },
     "execution_count": 27,
     "metadata": {},
     "output_type": "execute_result"
    }
   ],
   "source": [
    "np.sqrt(sample)"
   ]
  },
  {
   "cell_type": "code",
   "execution_count": 28,
   "id": "19b15444-2e34-4334-b084-964fea6a099d",
   "metadata": {},
   "outputs": [
    {
     "data": {
      "text/plain": [
       "array([0.        , 0.69314718, 1.09861229, 1.38629436, 1.60943791,\n",
       "       1.79175947, 1.94591015, 2.07944154, 2.19722458, 2.30258509,\n",
       "       2.39789527, 2.48490665, 2.56494936, 2.63905733, 2.7080502 ,\n",
       "       2.77258872, 2.83321334, 2.89037176, 2.94443898, 2.99573227,\n",
       "       3.04452244, 3.09104245, 3.13549422, 3.17805383, 3.21887582,\n",
       "       3.25809654, 3.29583687, 3.33220451, 3.36729583, 3.40119738])"
      ]
     },
     "execution_count": 28,
     "metadata": {},
     "output_type": "execute_result"
    }
   ],
   "source": [
    "np.log(sample)"
   ]
  },
  {
   "cell_type": "code",
   "execution_count": 29,
   "id": "38c652a6-db5d-417c-abb6-468abe3752e3",
   "metadata": {},
   "outputs": [
    {
     "data": {
      "text/plain": [
       "array([2.71828183e+00, 7.38905610e+00, 2.00855369e+01, 5.45981500e+01,\n",
       "       1.48413159e+02, 4.03428793e+02, 1.09663316e+03, 2.98095799e+03,\n",
       "       8.10308393e+03, 2.20264658e+04, 5.98741417e+04, 1.62754791e+05,\n",
       "       4.42413392e+05, 1.20260428e+06, 3.26901737e+06, 8.88611052e+06,\n",
       "       2.41549528e+07, 6.56599691e+07, 1.78482301e+08, 4.85165195e+08,\n",
       "       1.31881573e+09, 3.58491285e+09, 9.74480345e+09, 2.64891221e+10,\n",
       "       7.20048993e+10, 1.95729609e+11, 5.32048241e+11, 1.44625706e+12,\n",
       "       3.93133430e+12, 1.06864746e+13])"
      ]
     },
     "execution_count": 29,
     "metadata": {},
     "output_type": "execute_result"
    }
   ],
   "source": [
    "np.exp(sample)"
   ]
  },
  {
   "cell_type": "markdown",
   "id": "cdc62bc1-9e83-478d-853a-c1775edd834d",
   "metadata": {},
   "source": [
    "### Pandas"
   ]
  },
  {
   "cell_type": "code",
   "execution_count": 30,
   "id": "309c5fde-f1b2-4f9a-8804-c5ab9dc0e07f",
   "metadata": {},
   "outputs": [],
   "source": [
    "df={\"ID\":[1,2,3,4,5],\"Name\":[\"A\",\"B\",\"C\",\"D\",\"E\"],\"Marks\":[19,94,56,76,81]}\n",
    "data=pd.DataFrame(df)"
   ]
  },
  {
   "cell_type": "code",
   "execution_count": 31,
   "id": "d069c6ac-4818-43a3-935c-58437603ce5e",
   "metadata": {},
   "outputs": [
    {
     "data": {
      "text/html": [
       "<div>\n",
       "<style scoped>\n",
       "    .dataframe tbody tr th:only-of-type {\n",
       "        vertical-align: middle;\n",
       "    }\n",
       "\n",
       "    .dataframe tbody tr th {\n",
       "        vertical-align: top;\n",
       "    }\n",
       "\n",
       "    .dataframe thead th {\n",
       "        text-align: right;\n",
       "    }\n",
       "</style>\n",
       "<table border=\"1\" class=\"dataframe\">\n",
       "  <thead>\n",
       "    <tr style=\"text-align: right;\">\n",
       "      <th></th>\n",
       "      <th>ID</th>\n",
       "      <th>Name</th>\n",
       "      <th>Marks</th>\n",
       "    </tr>\n",
       "  </thead>\n",
       "  <tbody>\n",
       "    <tr>\n",
       "      <th>0</th>\n",
       "      <td>1</td>\n",
       "      <td>A</td>\n",
       "      <td>19</td>\n",
       "    </tr>\n",
       "    <tr>\n",
       "      <th>1</th>\n",
       "      <td>2</td>\n",
       "      <td>B</td>\n",
       "      <td>94</td>\n",
       "    </tr>\n",
       "    <tr>\n",
       "      <th>2</th>\n",
       "      <td>3</td>\n",
       "      <td>C</td>\n",
       "      <td>56</td>\n",
       "    </tr>\n",
       "    <tr>\n",
       "      <th>3</th>\n",
       "      <td>4</td>\n",
       "      <td>D</td>\n",
       "      <td>76</td>\n",
       "    </tr>\n",
       "    <tr>\n",
       "      <th>4</th>\n",
       "      <td>5</td>\n",
       "      <td>E</td>\n",
       "      <td>81</td>\n",
       "    </tr>\n",
       "  </tbody>\n",
       "</table>\n",
       "</div>"
      ],
      "text/plain": [
       "   ID Name  Marks\n",
       "0   1    A     19\n",
       "1   2    B     94\n",
       "2   3    C     56\n",
       "3   4    D     76\n",
       "4   5    E     81"
      ]
     },
     "execution_count": 31,
     "metadata": {},
     "output_type": "execute_result"
    }
   ],
   "source": [
    "data"
   ]
  },
  {
   "cell_type": "code",
   "execution_count": 32,
   "id": "b2fff929-b32c-4c83-83d3-a5f44f4cfc69",
   "metadata": {},
   "outputs": [
    {
     "data": {
      "text/plain": [
       "(5, 3)"
      ]
     },
     "execution_count": 32,
     "metadata": {},
     "output_type": "execute_result"
    }
   ],
   "source": [
    "data.shape"
   ]
  },
  {
   "cell_type": "code",
   "execution_count": 37,
   "id": "e7e3b737-ad44-4f59-ac6b-2de3ce1c156f",
   "metadata": {},
   "outputs": [
    {
     "data": {
      "text/html": [
       "<div>\n",
       "<style scoped>\n",
       "    .dataframe tbody tr th:only-of-type {\n",
       "        vertical-align: middle;\n",
       "    }\n",
       "\n",
       "    .dataframe tbody tr th {\n",
       "        vertical-align: top;\n",
       "    }\n",
       "\n",
       "    .dataframe thead th {\n",
       "        text-align: right;\n",
       "    }\n",
       "</style>\n",
       "<table border=\"1\" class=\"dataframe\">\n",
       "  <thead>\n",
       "    <tr style=\"text-align: right;\">\n",
       "      <th></th>\n",
       "      <th>Name</th>\n",
       "      <th>Marks</th>\n",
       "    </tr>\n",
       "  </thead>\n",
       "  <tbody>\n",
       "    <tr>\n",
       "      <th>0</th>\n",
       "      <td>A</td>\n",
       "      <td>19</td>\n",
       "    </tr>\n",
       "    <tr>\n",
       "      <th>1</th>\n",
       "      <td>B</td>\n",
       "      <td>94</td>\n",
       "    </tr>\n",
       "    <tr>\n",
       "      <th>2</th>\n",
       "      <td>C</td>\n",
       "      <td>56</td>\n",
       "    </tr>\n",
       "    <tr>\n",
       "      <th>3</th>\n",
       "      <td>D</td>\n",
       "      <td>76</td>\n",
       "    </tr>\n",
       "    <tr>\n",
       "      <th>4</th>\n",
       "      <td>E</td>\n",
       "      <td>81</td>\n",
       "    </tr>\n",
       "  </tbody>\n",
       "</table>\n",
       "</div>"
      ],
      "text/plain": [
       "  Name  Marks\n",
       "0    A     19\n",
       "1    B     94\n",
       "2    C     56\n",
       "3    D     76\n",
       "4    E     81"
      ]
     },
     "execution_count": 37,
     "metadata": {},
     "output_type": "execute_result"
    }
   ],
   "source": [
    "data[[\"Name\",\"Marks\"]]"
   ]
  },
  {
   "cell_type": "code",
   "execution_count": 39,
   "id": "94035b40-5bcf-4145-8510-c7f33d97fa3f",
   "metadata": {},
   "outputs": [],
   "source": [
    "df=data.drop(\"ID\",axis=1)"
   ]
  },
  {
   "cell_type": "code",
   "execution_count": 40,
   "id": "c01ad159-6615-42b1-99e6-91bae9dccb7e",
   "metadata": {},
   "outputs": [
    {
     "data": {
      "text/html": [
       "<div>\n",
       "<style scoped>\n",
       "    .dataframe tbody tr th:only-of-type {\n",
       "        vertical-align: middle;\n",
       "    }\n",
       "\n",
       "    .dataframe tbody tr th {\n",
       "        vertical-align: top;\n",
       "    }\n",
       "\n",
       "    .dataframe thead th {\n",
       "        text-align: right;\n",
       "    }\n",
       "</style>\n",
       "<table border=\"1\" class=\"dataframe\">\n",
       "  <thead>\n",
       "    <tr style=\"text-align: right;\">\n",
       "      <th></th>\n",
       "      <th>Name</th>\n",
       "      <th>Marks</th>\n",
       "    </tr>\n",
       "  </thead>\n",
       "  <tbody>\n",
       "    <tr>\n",
       "      <th>0</th>\n",
       "      <td>A</td>\n",
       "      <td>19</td>\n",
       "    </tr>\n",
       "    <tr>\n",
       "      <th>1</th>\n",
       "      <td>B</td>\n",
       "      <td>94</td>\n",
       "    </tr>\n",
       "    <tr>\n",
       "      <th>2</th>\n",
       "      <td>C</td>\n",
       "      <td>56</td>\n",
       "    </tr>\n",
       "    <tr>\n",
       "      <th>3</th>\n",
       "      <td>D</td>\n",
       "      <td>76</td>\n",
       "    </tr>\n",
       "    <tr>\n",
       "      <th>4</th>\n",
       "      <td>E</td>\n",
       "      <td>81</td>\n",
       "    </tr>\n",
       "  </tbody>\n",
       "</table>\n",
       "</div>"
      ],
      "text/plain": [
       "  Name  Marks\n",
       "0    A     19\n",
       "1    B     94\n",
       "2    C     56\n",
       "3    D     76\n",
       "4    E     81"
      ]
     },
     "execution_count": 40,
     "metadata": {},
     "output_type": "execute_result"
    }
   ],
   "source": [
    "df"
   ]
  },
  {
   "cell_type": "code",
   "execution_count": 42,
   "id": "b1cd2be6-0f80-41b5-b06e-06ff4ddfe5e0",
   "metadata": {},
   "outputs": [
    {
     "data": {
      "text/html": [
       "<div>\n",
       "<style scoped>\n",
       "    .dataframe tbody tr th:only-of-type {\n",
       "        vertical-align: middle;\n",
       "    }\n",
       "\n",
       "    .dataframe tbody tr th {\n",
       "        vertical-align: top;\n",
       "    }\n",
       "\n",
       "    .dataframe thead th {\n",
       "        text-align: right;\n",
       "    }\n",
       "</style>\n",
       "<table border=\"1\" class=\"dataframe\">\n",
       "  <thead>\n",
       "    <tr style=\"text-align: right;\">\n",
       "      <th></th>\n",
       "      <th>ID</th>\n",
       "      <th>Name</th>\n",
       "      <th>Marks</th>\n",
       "    </tr>\n",
       "  </thead>\n",
       "  <tbody>\n",
       "    <tr>\n",
       "      <th>0</th>\n",
       "      <td>1</td>\n",
       "      <td>A</td>\n",
       "      <td>19</td>\n",
       "    </tr>\n",
       "    <tr>\n",
       "      <th>1</th>\n",
       "      <td>2</td>\n",
       "      <td>B</td>\n",
       "      <td>94</td>\n",
       "    </tr>\n",
       "    <tr>\n",
       "      <th>2</th>\n",
       "      <td>3</td>\n",
       "      <td>C</td>\n",
       "      <td>56</td>\n",
       "    </tr>\n",
       "    <tr>\n",
       "      <th>4</th>\n",
       "      <td>5</td>\n",
       "      <td>E</td>\n",
       "      <td>81</td>\n",
       "    </tr>\n",
       "  </tbody>\n",
       "</table>\n",
       "</div>"
      ],
      "text/plain": [
       "   ID Name  Marks\n",
       "0   1    A     19\n",
       "1   2    B     94\n",
       "2   3    C     56\n",
       "4   5    E     81"
      ]
     },
     "execution_count": 42,
     "metadata": {},
     "output_type": "execute_result"
    }
   ],
   "source": [
    "data.drop(3)"
   ]
  },
  {
   "cell_type": "markdown",
   "id": "398f262e-9886-4864-85a1-8c247f1aa5e9",
   "metadata": {},
   "source": [
    "### create this dataset using pandas"
   ]
  },
  {
   "attachments": {
    "e25bf97c-06df-4da7-a382-ba0344013e17.png": {
     "image/png": "[encoded data removed]"
    }
   },
   "cell_type": "markdown",
   "id": "f92c77b8-a415-4045-b9cb-ed6da51a1704",
   "metadata": {},
   "source": [
    "![image.png](attachment:e25bf97c-06df-4da7-a382-ba0344013e17.png)"
   ]
  },
  {
   "cell_type": "code",
   "execution_count": 43,
   "id": "80922970-37c1-4166-9fda-38efec828792",
   "metadata": {},
   "outputs": [],
   "source": [
    "data = {\n",
    "    'Name': ['Alice', 'Bob', 'Charlie', 'David', 'Eva'],\n",
    "    'Age': [25, 30, 35, 40, 29],\n",
    "    'City': ['New York', 'Los Angeles', 'Chicago', 'Houston', 'Phoenix'],\n",
    "    'Salary': [70000, 80000, 120000, 100000, 95000],\n",
    "    'Experience': [2, 5, 10, 8, 6],\n",
    "    'Department': ['HR', 'Finance', 'Engineering', 'Engineering', 'Marketing']\n",
    "}\n",
    "df = pd.DataFrame(data)"
   ]
  },
  {
   "cell_type": "code",
   "execution_count": 44,
   "id": "18620249-dd2e-47f2-aab6-151f906ef452",
   "metadata": {},
   "outputs": [
    {
     "data": {
      "text/html": [
       "<div>\n",
       "<style scoped>\n",
       "    .dataframe tbody tr th:only-of-type {\n",
       "        vertical-align: middle;\n",
       "    }\n",
       "\n",
       "    .dataframe tbody tr th {\n",
       "        vertical-align: top;\n",
       "    }\n",
       "\n",
       "    .dataframe thead th {\n",
       "        text-align: right;\n",
       "    }\n",
       "</style>\n",
       "<table border=\"1\" class=\"dataframe\">\n",
       "  <thead>\n",
       "    <tr style=\"text-align: right;\">\n",
       "      <th></th>\n",
       "      <th>Name</th>\n",
       "      <th>Age</th>\n",
       "      <th>City</th>\n",
       "      <th>Salary</th>\n",
       "      <th>Experience</th>\n",
       "      <th>Department</th>\n",
       "    </tr>\n",
       "  </thead>\n",
       "  <tbody>\n",
       "    <tr>\n",
       "      <th>0</th>\n",
       "      <td>Alice</td>\n",
       "      <td>25</td>\n",
       "      <td>New York</td>\n",
       "      <td>70000</td>\n",
       "      <td>2</td>\n",
       "      <td>HR</td>\n",
       "    </tr>\n",
       "    <tr>\n",
       "      <th>1</th>\n",
       "      <td>Bob</td>\n",
       "      <td>30</td>\n",
       "      <td>Los Angeles</td>\n",
       "      <td>80000</td>\n",
       "      <td>5</td>\n",
       "      <td>Finance</td>\n",
       "    </tr>\n",
       "    <tr>\n",
       "      <th>2</th>\n",
       "      <td>Charlie</td>\n",
       "      <td>35</td>\n",
       "      <td>Chicago</td>\n",
       "      <td>120000</td>\n",
       "      <td>10</td>\n",
       "      <td>Engineering</td>\n",
       "    </tr>\n",
       "    <tr>\n",
       "      <th>3</th>\n",
       "      <td>David</td>\n",
       "      <td>40</td>\n",
       "      <td>Houston</td>\n",
       "      <td>100000</td>\n",
       "      <td>8</td>\n",
       "      <td>Engineering</td>\n",
       "    </tr>\n",
       "    <tr>\n",
       "      <th>4</th>\n",
       "      <td>Eva</td>\n",
       "      <td>29</td>\n",
       "      <td>Phoenix</td>\n",
       "      <td>95000</td>\n",
       "      <td>6</td>\n",
       "      <td>Marketing</td>\n",
       "    </tr>\n",
       "  </tbody>\n",
       "</table>\n",
       "</div>"
      ],
      "text/plain": [
       "      Name  Age         City  Salary  Experience   Department\n",
       "0    Alice   25     New York   70000           2           HR\n",
       "1      Bob   30  Los Angeles   80000           5      Finance\n",
       "2  Charlie   35      Chicago  120000          10  Engineering\n",
       "3    David   40      Houston  100000           8  Engineering\n",
       "4      Eva   29      Phoenix   95000           6    Marketing"
      ]
     },
     "execution_count": 44,
     "metadata": {},
     "output_type": "execute_result"
    }
   ],
   "source": [
    "df"
   ]
  },
  {
   "cell_type": "code",
   "execution_count": 45,
   "id": "7da9536e-5ddb-4585-b5cb-06d41a87339d",
   "metadata": {},
   "outputs": [
    {
     "data": {
      "text/plain": [
       "(5, 6)"
      ]
     },
     "execution_count": 45,
     "metadata": {},
     "output_type": "execute_result"
    }
   ],
   "source": [
    "### No.records and columns\n",
    "df.shape"
   ]
  },
  {
   "cell_type": "code",
   "execution_count": 46,
   "id": "bd78e9b7-d89e-4f99-859a-9ffc2eb3d1fe",
   "metadata": {},
   "outputs": [
    {
     "name": "stdout",
     "output_type": "stream",
     "text": [
      "<class 'pandas.core.frame.DataFrame'>\n",
      "RangeIndex: 5 entries, 0 to 4\n",
      "Data columns (total 6 columns):\n",
      " #   Column      Non-Null Count  Dtype \n",
      "---  ------      --------------  ----- \n",
      " 0   Name        5 non-null      object\n",
      " 1   Age         5 non-null      int64 \n",
      " 2   City        5 non-null      object\n",
      " 3   Salary      5 non-null      int64 \n",
      " 4   Experience  5 non-null      int64 \n",
      " 5   Department  5 non-null      object\n",
      "dtypes: int64(3), object(3)\n",
      "memory usage: 372.0+ bytes\n"
     ]
    }
   ],
   "source": [
    "df.info()"
   ]
  },
  {
   "cell_type": "code",
   "execution_count": 47,
   "id": "2458beb2-319e-4db0-a4f5-7a0389b1fd9a",
   "metadata": {},
   "outputs": [
    {
     "data": {
      "text/plain": [
       "0    25\n",
       "1    30\n",
       "2    35\n",
       "3    40\n",
       "4    29\n",
       "Name: Age, dtype: int64"
      ]
     },
     "execution_count": 47,
     "metadata": {},
     "output_type": "execute_result"
    }
   ],
   "source": [
    "df[\"Age\"]"
   ]
  },
  {
   "cell_type": "code",
   "execution_count": 48,
   "id": "5b5d8e39-c458-476c-87dd-f8dd3df4a006",
   "metadata": {},
   "outputs": [
    {
     "data": {
      "text/html": [
       "<div>\n",
       "<style scoped>\n",
       "    .dataframe tbody tr th:only-of-type {\n",
       "        vertical-align: middle;\n",
       "    }\n",
       "\n",
       "    .dataframe tbody tr th {\n",
       "        vertical-align: top;\n",
       "    }\n",
       "\n",
       "    .dataframe thead th {\n",
       "        text-align: right;\n",
       "    }\n",
       "</style>\n",
       "<table border=\"1\" class=\"dataframe\">\n",
       "  <thead>\n",
       "    <tr style=\"text-align: right;\">\n",
       "      <th></th>\n",
       "      <th>Name</th>\n",
       "      <th>City</th>\n",
       "    </tr>\n",
       "  </thead>\n",
       "  <tbody>\n",
       "    <tr>\n",
       "      <th>0</th>\n",
       "      <td>Alice</td>\n",
       "      <td>New York</td>\n",
       "    </tr>\n",
       "    <tr>\n",
       "      <th>1</th>\n",
       "      <td>Bob</td>\n",
       "      <td>Los Angeles</td>\n",
       "    </tr>\n",
       "    <tr>\n",
       "      <th>2</th>\n",
       "      <td>Charlie</td>\n",
       "      <td>Chicago</td>\n",
       "    </tr>\n",
       "    <tr>\n",
       "      <th>3</th>\n",
       "      <td>David</td>\n",
       "      <td>Houston</td>\n",
       "    </tr>\n",
       "    <tr>\n",
       "      <th>4</th>\n",
       "      <td>Eva</td>\n",
       "      <td>Phoenix</td>\n",
       "    </tr>\n",
       "  </tbody>\n",
       "</table>\n",
       "</div>"
      ],
      "text/plain": [
       "      Name         City\n",
       "0    Alice     New York\n",
       "1      Bob  Los Angeles\n",
       "2  Charlie      Chicago\n",
       "3    David      Houston\n",
       "4      Eva      Phoenix"
      ]
     },
     "execution_count": 48,
     "metadata": {},
     "output_type": "execute_result"
    }
   ],
   "source": [
    "df[[\"Name\",\"City\"]]"
   ]
  },
  {
   "cell_type": "code",
   "execution_count": 49,
   "id": "bc67cd6f-8688-48ea-9b23-4da0243c40bb",
   "metadata": {},
   "outputs": [
    {
     "data": {
      "text/plain": [
       "Name             Alice\n",
       "Age                 25\n",
       "City          New York\n",
       "Salary           70000\n",
       "Experience           2\n",
       "Department          HR\n",
       "Name: 0, dtype: object"
      ]
     },
     "execution_count": 49,
     "metadata": {},
     "output_type": "execute_result"
    }
   ],
   "source": [
    "df.iloc[0]"
   ]
  },
  {
   "cell_type": "code",
   "execution_count": 51,
   "id": "55c7c31e-373c-4768-9b24-0b74246cd7b3",
   "metadata": {},
   "outputs": [
    {
     "data": {
      "text/plain": [
       "Name                  Bob\n",
       "Age                    30\n",
       "City          Los Angeles\n",
       "Salary              80000\n",
       "Experience              5\n",
       "Department        Finance\n",
       "Name: 1, dtype: object"
      ]
     },
     "execution_count": 51,
     "metadata": {},
     "output_type": "execute_result"
    }
   ],
   "source": [
    "df.loc[1]"
   ]
  },
  {
   "cell_type": "code",
   "execution_count": 53,
   "id": "6059c200-3594-49bf-942d-4c11a38187e9",
   "metadata": {},
   "outputs": [
    {
     "data": {
      "text/html": [
       "<div>\n",
       "<style scoped>\n",
       "    .dataframe tbody tr th:only-of-type {\n",
       "        vertical-align: middle;\n",
       "    }\n",
       "\n",
       "    .dataframe tbody tr th {\n",
       "        vertical-align: top;\n",
       "    }\n",
       "\n",
       "    .dataframe thead th {\n",
       "        text-align: right;\n",
       "    }\n",
       "</style>\n",
       "<table border=\"1\" class=\"dataframe\">\n",
       "  <thead>\n",
       "    <tr style=\"text-align: right;\">\n",
       "      <th></th>\n",
       "      <th>Name</th>\n",
       "      <th>Age</th>\n",
       "      <th>City</th>\n",
       "      <th>Salary</th>\n",
       "      <th>Experience</th>\n",
       "      <th>Department</th>\n",
       "    </tr>\n",
       "  </thead>\n",
       "  <tbody>\n",
       "    <tr>\n",
       "      <th>0</th>\n",
       "      <td>Alice</td>\n",
       "      <td>25</td>\n",
       "      <td>New York</td>\n",
       "      <td>70000</td>\n",
       "      <td>2</td>\n",
       "      <td>HR</td>\n",
       "    </tr>\n",
       "    <tr>\n",
       "      <th>1</th>\n",
       "      <td>Bob</td>\n",
       "      <td>30</td>\n",
       "      <td>Los Angeles</td>\n",
       "      <td>80000</td>\n",
       "      <td>5</td>\n",
       "      <td>Finance</td>\n",
       "    </tr>\n",
       "    <tr>\n",
       "      <th>2</th>\n",
       "      <td>Charlie</td>\n",
       "      <td>35</td>\n",
       "      <td>Chicago</td>\n",
       "      <td>120000</td>\n",
       "      <td>10</td>\n",
       "      <td>Engineering</td>\n",
       "    </tr>\n",
       "    <tr>\n",
       "      <th>3</th>\n",
       "      <td>David</td>\n",
       "      <td>40</td>\n",
       "      <td>Houston</td>\n",
       "      <td>100000</td>\n",
       "      <td>8</td>\n",
       "      <td>Engineering</td>\n",
       "    </tr>\n",
       "    <tr>\n",
       "      <th>4</th>\n",
       "      <td>Eva</td>\n",
       "      <td>29</td>\n",
       "      <td>Phoenix</td>\n",
       "      <td>95000</td>\n",
       "      <td>6</td>\n",
       "      <td>Marketing</td>\n",
       "    </tr>\n",
       "  </tbody>\n",
       "</table>\n",
       "</div>"
      ],
      "text/plain": [
       "      Name  Age         City  Salary  Experience   Department\n",
       "0    Alice   25     New York   70000           2           HR\n",
       "1      Bob   30  Los Angeles   80000           5      Finance\n",
       "2  Charlie   35      Chicago  120000          10  Engineering\n",
       "3    David   40      Houston  100000           8  Engineering\n",
       "4      Eva   29      Phoenix   95000           6    Marketing"
      ]
     },
     "execution_count": 53,
     "metadata": {},
     "output_type": "execute_result"
    }
   ],
   "source": [
    "df"
   ]
  },
  {
   "cell_type": "code",
   "execution_count": 54,
   "id": "e67b9e05-5d82-42eb-b627-4289383450d3",
   "metadata": {},
   "outputs": [
    {
     "data": {
      "text/html": [
       "<div>\n",
       "<style scoped>\n",
       "    .dataframe tbody tr th:only-of-type {\n",
       "        vertical-align: middle;\n",
       "    }\n",
       "\n",
       "    .dataframe tbody tr th {\n",
       "        vertical-align: top;\n",
       "    }\n",
       "\n",
       "    .dataframe thead th {\n",
       "        text-align: right;\n",
       "    }\n",
       "</style>\n",
       "<table border=\"1\" class=\"dataframe\">\n",
       "  <thead>\n",
       "    <tr style=\"text-align: right;\">\n",
       "      <th></th>\n",
       "      <th>Name</th>\n",
       "      <th>Age</th>\n",
       "      <th>City</th>\n",
       "      <th>Salary</th>\n",
       "      <th>Experience</th>\n",
       "      <th>Department</th>\n",
       "    </tr>\n",
       "  </thead>\n",
       "  <tbody>\n",
       "    <tr>\n",
       "      <th>2</th>\n",
       "      <td>Charlie</td>\n",
       "      <td>35</td>\n",
       "      <td>Chicago</td>\n",
       "      <td>120000</td>\n",
       "      <td>10</td>\n",
       "      <td>Engineering</td>\n",
       "    </tr>\n",
       "    <tr>\n",
       "      <th>3</th>\n",
       "      <td>David</td>\n",
       "      <td>40</td>\n",
       "      <td>Houston</td>\n",
       "      <td>100000</td>\n",
       "      <td>8</td>\n",
       "      <td>Engineering</td>\n",
       "    </tr>\n",
       "  </tbody>\n",
       "</table>\n",
       "</div>"
      ],
      "text/plain": [
       "      Name  Age     City  Salary  Experience   Department\n",
       "2  Charlie   35  Chicago  120000          10  Engineering\n",
       "3    David   40  Houston  100000           8  Engineering"
      ]
     },
     "execution_count": 54,
     "metadata": {},
     "output_type": "execute_result"
    }
   ],
   "source": [
    "df[df[\"Age\"]>30]"
   ]
  },
  {
   "cell_type": "code",
   "execution_count": 56,
   "id": "ad4a85e0-f4cc-479e-9dac-160cc19743f3",
   "metadata": {},
   "outputs": [
    {
     "data": {
      "text/html": [
       "<div>\n",
       "<style scoped>\n",
       "    .dataframe tbody tr th:only-of-type {\n",
       "        vertical-align: middle;\n",
       "    }\n",
       "\n",
       "    .dataframe tbody tr th {\n",
       "        vertical-align: top;\n",
       "    }\n",
       "\n",
       "    .dataframe thead th {\n",
       "        text-align: right;\n",
       "    }\n",
       "</style>\n",
       "<table border=\"1\" class=\"dataframe\">\n",
       "  <thead>\n",
       "    <tr style=\"text-align: right;\">\n",
       "      <th></th>\n",
       "      <th>Name</th>\n",
       "      <th>Age</th>\n",
       "      <th>City</th>\n",
       "      <th>Salary</th>\n",
       "      <th>Experience</th>\n",
       "      <th>Department</th>\n",
       "    </tr>\n",
       "  </thead>\n",
       "  <tbody>\n",
       "    <tr>\n",
       "      <th>0</th>\n",
       "      <td>Alice</td>\n",
       "      <td>25</td>\n",
       "      <td>New York</td>\n",
       "      <td>70000</td>\n",
       "      <td>2</td>\n",
       "      <td>HR</td>\n",
       "    </tr>\n",
       "    <tr>\n",
       "      <th>1</th>\n",
       "      <td>Bob</td>\n",
       "      <td>30</td>\n",
       "      <td>Los Angeles</td>\n",
       "      <td>80000</td>\n",
       "      <td>5</td>\n",
       "      <td>Finance</td>\n",
       "    </tr>\n",
       "  </tbody>\n",
       "</table>\n",
       "</div>"
      ],
      "text/plain": [
       "    Name  Age         City  Salary  Experience Department\n",
       "0  Alice   25     New York   70000           2         HR\n",
       "1    Bob   30  Los Angeles   80000           5    Finance"
      ]
     },
     "execution_count": 56,
     "metadata": {},
     "output_type": "execute_result"
    }
   ],
   "source": [
    "df[df[\"Experience\"]<=5]"
   ]
  },
  {
   "cell_type": "code",
   "execution_count": 57,
   "id": "8d4cac38-5e80-4707-9f13-9a0602dee0ef",
   "metadata": {},
   "outputs": [
    {
     "data": {
      "text/html": [
       "<div>\n",
       "<style scoped>\n",
       "    .dataframe tbody tr th:only-of-type {\n",
       "        vertical-align: middle;\n",
       "    }\n",
       "\n",
       "    .dataframe tbody tr th {\n",
       "        vertical-align: top;\n",
       "    }\n",
       "\n",
       "    .dataframe thead th {\n",
       "        text-align: right;\n",
       "    }\n",
       "</style>\n",
       "<table border=\"1\" class=\"dataframe\">\n",
       "  <thead>\n",
       "    <tr style=\"text-align: right;\">\n",
       "      <th></th>\n",
       "      <th>Name</th>\n",
       "      <th>Age</th>\n",
       "      <th>City</th>\n",
       "      <th>Salary</th>\n",
       "      <th>Experience</th>\n",
       "      <th>Department</th>\n",
       "    </tr>\n",
       "  </thead>\n",
       "  <tbody>\n",
       "    <tr>\n",
       "      <th>0</th>\n",
       "      <td>Alice</td>\n",
       "      <td>25</td>\n",
       "      <td>New York</td>\n",
       "      <td>70000</td>\n",
       "      <td>2</td>\n",
       "      <td>HR</td>\n",
       "    </tr>\n",
       "    <tr>\n",
       "      <th>4</th>\n",
       "      <td>Eva</td>\n",
       "      <td>29</td>\n",
       "      <td>Phoenix</td>\n",
       "      <td>95000</td>\n",
       "      <td>6</td>\n",
       "      <td>Marketing</td>\n",
       "    </tr>\n",
       "    <tr>\n",
       "      <th>1</th>\n",
       "      <td>Bob</td>\n",
       "      <td>30</td>\n",
       "      <td>Los Angeles</td>\n",
       "      <td>80000</td>\n",
       "      <td>5</td>\n",
       "      <td>Finance</td>\n",
       "    </tr>\n",
       "    <tr>\n",
       "      <th>2</th>\n",
       "      <td>Charlie</td>\n",
       "      <td>35</td>\n",
       "      <td>Chicago</td>\n",
       "      <td>120000</td>\n",
       "      <td>10</td>\n",
       "      <td>Engineering</td>\n",
       "    </tr>\n",
       "    <tr>\n",
       "      <th>3</th>\n",
       "      <td>David</td>\n",
       "      <td>40</td>\n",
       "      <td>Houston</td>\n",
       "      <td>100000</td>\n",
       "      <td>8</td>\n",
       "      <td>Engineering</td>\n",
       "    </tr>\n",
       "  </tbody>\n",
       "</table>\n",
       "</div>"
      ],
      "text/plain": [
       "      Name  Age         City  Salary  Experience   Department\n",
       "0    Alice   25     New York   70000           2           HR\n",
       "4      Eva   29      Phoenix   95000           6    Marketing\n",
       "1      Bob   30  Los Angeles   80000           5      Finance\n",
       "2  Charlie   35      Chicago  120000          10  Engineering\n",
       "3    David   40      Houston  100000           8  Engineering"
      ]
     },
     "execution_count": 57,
     "metadata": {},
     "output_type": "execute_result"
    }
   ],
   "source": [
    "df.sort_values(\"Age\")"
   ]
  },
  {
   "cell_type": "code",
   "execution_count": 58,
   "id": "ac8df53e-40c3-439c-ad1e-71ca9176381d",
   "metadata": {},
   "outputs": [
    {
     "data": {
      "text/html": [
       "<div>\n",
       "<style scoped>\n",
       "    .dataframe tbody tr th:only-of-type {\n",
       "        vertical-align: middle;\n",
       "    }\n",
       "\n",
       "    .dataframe tbody tr th {\n",
       "        vertical-align: top;\n",
       "    }\n",
       "\n",
       "    .dataframe thead th {\n",
       "        text-align: right;\n",
       "    }\n",
       "</style>\n",
       "<table border=\"1\" class=\"dataframe\">\n",
       "  <thead>\n",
       "    <tr style=\"text-align: right;\">\n",
       "      <th></th>\n",
       "      <th>Name</th>\n",
       "      <th>Age</th>\n",
       "      <th>City</th>\n",
       "      <th>Salary</th>\n",
       "      <th>Experience</th>\n",
       "      <th>Department</th>\n",
       "    </tr>\n",
       "  </thead>\n",
       "  <tbody>\n",
       "    <tr>\n",
       "      <th>3</th>\n",
       "      <td>David</td>\n",
       "      <td>40</td>\n",
       "      <td>Houston</td>\n",
       "      <td>100000</td>\n",
       "      <td>8</td>\n",
       "      <td>Engineering</td>\n",
       "    </tr>\n",
       "    <tr>\n",
       "      <th>2</th>\n",
       "      <td>Charlie</td>\n",
       "      <td>35</td>\n",
       "      <td>Chicago</td>\n",
       "      <td>120000</td>\n",
       "      <td>10</td>\n",
       "      <td>Engineering</td>\n",
       "    </tr>\n",
       "    <tr>\n",
       "      <th>1</th>\n",
       "      <td>Bob</td>\n",
       "      <td>30</td>\n",
       "      <td>Los Angeles</td>\n",
       "      <td>80000</td>\n",
       "      <td>5</td>\n",
       "      <td>Finance</td>\n",
       "    </tr>\n",
       "    <tr>\n",
       "      <th>4</th>\n",
       "      <td>Eva</td>\n",
       "      <td>29</td>\n",
       "      <td>Phoenix</td>\n",
       "      <td>95000</td>\n",
       "      <td>6</td>\n",
       "      <td>Marketing</td>\n",
       "    </tr>\n",
       "    <tr>\n",
       "      <th>0</th>\n",
       "      <td>Alice</td>\n",
       "      <td>25</td>\n",
       "      <td>New York</td>\n",
       "      <td>70000</td>\n",
       "      <td>2</td>\n",
       "      <td>HR</td>\n",
       "    </tr>\n",
       "  </tbody>\n",
       "</table>\n",
       "</div>"
      ],
      "text/plain": [
       "      Name  Age         City  Salary  Experience   Department\n",
       "3    David   40      Houston  100000           8  Engineering\n",
       "2  Charlie   35      Chicago  120000          10  Engineering\n",
       "1      Bob   30  Los Angeles   80000           5      Finance\n",
       "4      Eva   29      Phoenix   95000           6    Marketing\n",
       "0    Alice   25     New York   70000           2           HR"
      ]
     },
     "execution_count": 58,
     "metadata": {},
     "output_type": "execute_result"
    }
   ],
   "source": [
    "df.sort_values(\"Age\",ascending=False)"
   ]
  },
  {
   "cell_type": "code",
   "execution_count": 61,
   "id": "9715d34b-297b-46bb-88d2-285af25f0b35",
   "metadata": {},
   "outputs": [
    {
     "data": {
      "text/html": [
       "<div>\n",
       "<style scoped>\n",
       "    .dataframe tbody tr th:only-of-type {\n",
       "        vertical-align: middle;\n",
       "    }\n",
       "\n",
       "    .dataframe tbody tr th {\n",
       "        vertical-align: top;\n",
       "    }\n",
       "\n",
       "    .dataframe thead th {\n",
       "        text-align: right;\n",
       "    }\n",
       "</style>\n",
       "<table border=\"1\" class=\"dataframe\">\n",
       "  <thead>\n",
       "    <tr style=\"text-align: right;\">\n",
       "      <th></th>\n",
       "      <th>Name</th>\n",
       "      <th>Age</th>\n",
       "      <th>City</th>\n",
       "      <th>Income</th>\n",
       "      <th>Experience</th>\n",
       "      <th>Department</th>\n",
       "    </tr>\n",
       "  </thead>\n",
       "  <tbody>\n",
       "    <tr>\n",
       "      <th>0</th>\n",
       "      <td>Alice</td>\n",
       "      <td>25</td>\n",
       "      <td>New York</td>\n",
       "      <td>70000</td>\n",
       "      <td>2</td>\n",
       "      <td>HR</td>\n",
       "    </tr>\n",
       "    <tr>\n",
       "      <th>1</th>\n",
       "      <td>Bob</td>\n",
       "      <td>30</td>\n",
       "      <td>Los Angeles</td>\n",
       "      <td>80000</td>\n",
       "      <td>5</td>\n",
       "      <td>Finance</td>\n",
       "    </tr>\n",
       "    <tr>\n",
       "      <th>2</th>\n",
       "      <td>Charlie</td>\n",
       "      <td>35</td>\n",
       "      <td>Chicago</td>\n",
       "      <td>120000</td>\n",
       "      <td>10</td>\n",
       "      <td>Engineering</td>\n",
       "    </tr>\n",
       "    <tr>\n",
       "      <th>3</th>\n",
       "      <td>David</td>\n",
       "      <td>40</td>\n",
       "      <td>Houston</td>\n",
       "      <td>100000</td>\n",
       "      <td>8</td>\n",
       "      <td>Engineering</td>\n",
       "    </tr>\n",
       "    <tr>\n",
       "      <th>4</th>\n",
       "      <td>Eva</td>\n",
       "      <td>29</td>\n",
       "      <td>Phoenix</td>\n",
       "      <td>95000</td>\n",
       "      <td>6</td>\n",
       "      <td>Marketing</td>\n",
       "    </tr>\n",
       "  </tbody>\n",
       "</table>\n",
       "</div>"
      ],
      "text/plain": [
       "      Name  Age         City  Income  Experience   Department\n",
       "0    Alice   25     New York   70000           2           HR\n",
       "1      Bob   30  Los Angeles   80000           5      Finance\n",
       "2  Charlie   35      Chicago  120000          10  Engineering\n",
       "3    David   40      Houston  100000           8  Engineering\n",
       "4      Eva   29      Phoenix   95000           6    Marketing"
      ]
     },
     "execution_count": 61,
     "metadata": {},
     "output_type": "execute_result"
    }
   ],
   "source": [
    "df=df.rename(columns={\"Salary\":\"Income\"})\n",
    "df"
   ]
  },
  {
   "cell_type": "code",
   "execution_count": 62,
   "id": "bc84f595-f0b0-463d-972a-a458e592bd3c",
   "metadata": {},
   "outputs": [
    {
     "data": {
      "text/html": [
       "<div>\n",
       "<style scoped>\n",
       "    .dataframe tbody tr th:only-of-type {\n",
       "        vertical-align: middle;\n",
       "    }\n",
       "\n",
       "    .dataframe tbody tr th {\n",
       "        vertical-align: top;\n",
       "    }\n",
       "\n",
       "    .dataframe thead th {\n",
       "        text-align: right;\n",
       "    }\n",
       "</style>\n",
       "<table border=\"1\" class=\"dataframe\">\n",
       "  <thead>\n",
       "    <tr style=\"text-align: right;\">\n",
       "      <th></th>\n",
       "      <th>Name</th>\n",
       "      <th>Age</th>\n",
       "      <th>City</th>\n",
       "      <th>Income</th>\n",
       "      <th>Experience</th>\n",
       "      <th>Department</th>\n",
       "    </tr>\n",
       "  </thead>\n",
       "  <tbody>\n",
       "    <tr>\n",
       "      <th>0</th>\n",
       "      <td>Alice</td>\n",
       "      <td>25</td>\n",
       "      <td>New York</td>\n",
       "      <td>70000</td>\n",
       "      <td>2</td>\n",
       "      <td>HR</td>\n",
       "    </tr>\n",
       "    <tr>\n",
       "      <th>1</th>\n",
       "      <td>Bob</td>\n",
       "      <td>30</td>\n",
       "      <td>Los Angeles</td>\n",
       "      <td>80000</td>\n",
       "      <td>5</td>\n",
       "      <td>Finance</td>\n",
       "    </tr>\n",
       "    <tr>\n",
       "      <th>2</th>\n",
       "      <td>Charlie</td>\n",
       "      <td>35</td>\n",
       "      <td>Chicago</td>\n",
       "      <td>120000</td>\n",
       "      <td>10</td>\n",
       "      <td>Engineering</td>\n",
       "    </tr>\n",
       "    <tr>\n",
       "      <th>3</th>\n",
       "      <td>David</td>\n",
       "      <td>40</td>\n",
       "      <td>Houston</td>\n",
       "      <td>100000</td>\n",
       "      <td>8</td>\n",
       "      <td>Engineering</td>\n",
       "    </tr>\n",
       "    <tr>\n",
       "      <th>4</th>\n",
       "      <td>Eva</td>\n",
       "      <td>29</td>\n",
       "      <td>Phoenix</td>\n",
       "      <td>95000</td>\n",
       "      <td>6</td>\n",
       "      <td>Marketing</td>\n",
       "    </tr>\n",
       "  </tbody>\n",
       "</table>\n",
       "</div>"
      ],
      "text/plain": [
       "      Name  Age         City  Income  Experience   Department\n",
       "0    Alice   25     New York   70000           2           HR\n",
       "1      Bob   30  Los Angeles   80000           5      Finance\n",
       "2  Charlie   35      Chicago  120000          10  Engineering\n",
       "3    David   40      Houston  100000           8  Engineering\n",
       "4      Eva   29      Phoenix   95000           6    Marketing"
      ]
     },
     "execution_count": 62,
     "metadata": {},
     "output_type": "execute_result"
    }
   ],
   "source": [
    "df"
   ]
  },
  {
   "cell_type": "code",
   "execution_count": 64,
   "id": "744d1286-a984-4b71-856e-3b43bb9b4417",
   "metadata": {},
   "outputs": [],
   "source": [
    "df[\"Bonus\"]=df[\"Income\"]*0.1"
   ]
  },
  {
   "cell_type": "code",
   "execution_count": 65,
   "id": "819828b4-b80a-4857-8379-aa5b2e371cb5",
   "metadata": {},
   "outputs": [
    {
     "data": {
      "text/html": [
       "<div>\n",
       "<style scoped>\n",
       "    .dataframe tbody tr th:only-of-type {\n",
       "        vertical-align: middle;\n",
       "    }\n",
       "\n",
       "    .dataframe tbody tr th {\n",
       "        vertical-align: top;\n",
       "    }\n",
       "\n",
       "    .dataframe thead th {\n",
       "        text-align: right;\n",
       "    }\n",
       "</style>\n",
       "<table border=\"1\" class=\"dataframe\">\n",
       "  <thead>\n",
       "    <tr style=\"text-align: right;\">\n",
       "      <th></th>\n",
       "      <th>Name</th>\n",
       "      <th>Age</th>\n",
       "      <th>City</th>\n",
       "      <th>Income</th>\n",
       "      <th>Experience</th>\n",
       "      <th>Department</th>\n",
       "      <th>Bonus</th>\n",
       "    </tr>\n",
       "  </thead>\n",
       "  <tbody>\n",
       "    <tr>\n",
       "      <th>0</th>\n",
       "      <td>Alice</td>\n",
       "      <td>25</td>\n",
       "      <td>New York</td>\n",
       "      <td>70000</td>\n",
       "      <td>2</td>\n",
       "      <td>HR</td>\n",
       "      <td>7000.0</td>\n",
       "    </tr>\n",
       "    <tr>\n",
       "      <th>1</th>\n",
       "      <td>Bob</td>\n",
       "      <td>30</td>\n",
       "      <td>Los Angeles</td>\n",
       "      <td>80000</td>\n",
       "      <td>5</td>\n",
       "      <td>Finance</td>\n",
       "      <td>8000.0</td>\n",
       "    </tr>\n",
       "    <tr>\n",
       "      <th>2</th>\n",
       "      <td>Charlie</td>\n",
       "      <td>35</td>\n",
       "      <td>Chicago</td>\n",
       "      <td>120000</td>\n",
       "      <td>10</td>\n",
       "      <td>Engineering</td>\n",
       "      <td>12000.0</td>\n",
       "    </tr>\n",
       "    <tr>\n",
       "      <th>3</th>\n",
       "      <td>David</td>\n",
       "      <td>40</td>\n",
       "      <td>Houston</td>\n",
       "      <td>100000</td>\n",
       "      <td>8</td>\n",
       "      <td>Engineering</td>\n",
       "      <td>10000.0</td>\n",
       "    </tr>\n",
       "    <tr>\n",
       "      <th>4</th>\n",
       "      <td>Eva</td>\n",
       "      <td>29</td>\n",
       "      <td>Phoenix</td>\n",
       "      <td>95000</td>\n",
       "      <td>6</td>\n",
       "      <td>Marketing</td>\n",
       "      <td>9500.0</td>\n",
       "    </tr>\n",
       "  </tbody>\n",
       "</table>\n",
       "</div>"
      ],
      "text/plain": [
       "      Name  Age         City  Income  Experience   Department    Bonus\n",
       "0    Alice   25     New York   70000           2           HR   7000.0\n",
       "1      Bob   30  Los Angeles   80000           5      Finance   8000.0\n",
       "2  Charlie   35      Chicago  120000          10  Engineering  12000.0\n",
       "3    David   40      Houston  100000           8  Engineering  10000.0\n",
       "4      Eva   29      Phoenix   95000           6    Marketing   9500.0"
      ]
     },
     "execution_count": 65,
     "metadata": {},
     "output_type": "execute_result"
    }
   ],
   "source": [
    "df"
   ]
  },
  {
   "cell_type": "code",
   "execution_count": 66,
   "id": "c3f524e7-8131-47da-9b0a-e77adc4cb720",
   "metadata": {},
   "outputs": [
    {
     "data": {
      "text/plain": [
       "Department\n",
       "Engineering    110000.0\n",
       "Finance         80000.0\n",
       "HR              70000.0\n",
       "Marketing       95000.0\n",
       "Name: Income, dtype: float64"
      ]
     },
     "execution_count": 66,
     "metadata": {},
     "output_type": "execute_result"
    }
   ],
   "source": [
    "df.groupby(\"Department\")[\"Income\"].mean()"
   ]
  },
  {
   "cell_type": "code",
   "execution_count": 67,
   "id": "0214e7cb-fd74-4d11-877b-b5742c182ebe",
   "metadata": {},
   "outputs": [
    {
     "data": {
      "text/html": [
       "<div>\n",
       "<style scoped>\n",
       "    .dataframe tbody tr th:only-of-type {\n",
       "        vertical-align: middle;\n",
       "    }\n",
       "\n",
       "    .dataframe tbody tr th {\n",
       "        vertical-align: top;\n",
       "    }\n",
       "\n",
       "    .dataframe thead th {\n",
       "        text-align: right;\n",
       "    }\n",
       "</style>\n",
       "<table border=\"1\" class=\"dataframe\">\n",
       "  <thead>\n",
       "    <tr style=\"text-align: right;\">\n",
       "      <th></th>\n",
       "      <th>Age</th>\n",
       "      <th>Income</th>\n",
       "      <th>Experience</th>\n",
       "      <th>Bonus</th>\n",
       "    </tr>\n",
       "  </thead>\n",
       "  <tbody>\n",
       "    <tr>\n",
       "      <th>count</th>\n",
       "      <td>5.00000</td>\n",
       "      <td>5.000000</td>\n",
       "      <td>5.00000</td>\n",
       "      <td>5.000000</td>\n",
       "    </tr>\n",
       "    <tr>\n",
       "      <th>mean</th>\n",
       "      <td>31.80000</td>\n",
       "      <td>93000.000000</td>\n",
       "      <td>6.20000</td>\n",
       "      <td>9300.000000</td>\n",
       "    </tr>\n",
       "    <tr>\n",
       "      <th>std</th>\n",
       "      <td>5.80517</td>\n",
       "      <td>19235.384062</td>\n",
       "      <td>3.03315</td>\n",
       "      <td>1923.538406</td>\n",
       "    </tr>\n",
       "    <tr>\n",
       "      <th>min</th>\n",
       "      <td>25.00000</td>\n",
       "      <td>70000.000000</td>\n",
       "      <td>2.00000</td>\n",
       "      <td>7000.000000</td>\n",
       "    </tr>\n",
       "    <tr>\n",
       "      <th>25%</th>\n",
       "      <td>29.00000</td>\n",
       "      <td>80000.000000</td>\n",
       "      <td>5.00000</td>\n",
       "      <td>8000.000000</td>\n",
       "    </tr>\n",
       "    <tr>\n",
       "      <th>50%</th>\n",
       "      <td>30.00000</td>\n",
       "      <td>95000.000000</td>\n",
       "      <td>6.00000</td>\n",
       "      <td>9500.000000</td>\n",
       "    </tr>\n",
       "    <tr>\n",
       "      <th>75%</th>\n",
       "      <td>35.00000</td>\n",
       "      <td>100000.000000</td>\n",
       "      <td>8.00000</td>\n",
       "      <td>10000.000000</td>\n",
       "    </tr>\n",
       "    <tr>\n",
       "      <th>max</th>\n",
       "      <td>40.00000</td>\n",
       "      <td>120000.000000</td>\n",
       "      <td>10.00000</td>\n",
       "      <td>12000.000000</td>\n",
       "    </tr>\n",
       "  </tbody>\n",
       "</table>\n",
       "</div>"
      ],
      "text/plain": [
       "            Age         Income  Experience         Bonus\n",
       "count   5.00000       5.000000     5.00000      5.000000\n",
       "mean   31.80000   93000.000000     6.20000   9300.000000\n",
       "std     5.80517   19235.384062     3.03315   1923.538406\n",
       "min    25.00000   70000.000000     2.00000   7000.000000\n",
       "25%    29.00000   80000.000000     5.00000   8000.000000\n",
       "50%    30.00000   95000.000000     6.00000   9500.000000\n",
       "75%    35.00000  100000.000000     8.00000  10000.000000\n",
       "max    40.00000  120000.000000    10.00000  12000.000000"
      ]
     },
     "execution_count": 67,
     "metadata": {},
     "output_type": "execute_result"
    }
   ],
   "source": [
    "df.describe()"
   ]
  },
  {
   "cell_type": "code",
   "execution_count": 68,
   "id": "f089f563-fc6d-4519-bff0-d6e5554c9e84",
   "metadata": {},
   "outputs": [
    {
     "data": {
      "text/html": [
       "<div>\n",
       "<style scoped>\n",
       "    .dataframe tbody tr th:only-of-type {\n",
       "        vertical-align: middle;\n",
       "    }\n",
       "\n",
       "    .dataframe tbody tr th {\n",
       "        vertical-align: top;\n",
       "    }\n",
       "\n",
       "    .dataframe thead th {\n",
       "        text-align: right;\n",
       "    }\n",
       "</style>\n",
       "<table border=\"1\" class=\"dataframe\">\n",
       "  <thead>\n",
       "    <tr style=\"text-align: right;\">\n",
       "      <th></th>\n",
       "      <th>Name</th>\n",
       "      <th>Age</th>\n",
       "      <th>City</th>\n",
       "      <th>Income</th>\n",
       "      <th>Experience</th>\n",
       "      <th>Department</th>\n",
       "      <th>Bonus</th>\n",
       "    </tr>\n",
       "  </thead>\n",
       "  <tbody>\n",
       "    <tr>\n",
       "      <th>count</th>\n",
       "      <td>5</td>\n",
       "      <td>5.00000</td>\n",
       "      <td>5</td>\n",
       "      <td>5.000000</td>\n",
       "      <td>5.00000</td>\n",
       "      <td>5</td>\n",
       "      <td>5.000000</td>\n",
       "    </tr>\n",
       "    <tr>\n",
       "      <th>unique</th>\n",
       "      <td>5</td>\n",
       "      <td>NaN</td>\n",
       "      <td>5</td>\n",
       "      <td>NaN</td>\n",
       "      <td>NaN</td>\n",
       "      <td>4</td>\n",
       "      <td>NaN</td>\n",
       "    </tr>\n",
       "    <tr>\n",
       "      <th>top</th>\n",
       "      <td>Alice</td>\n",
       "      <td>NaN</td>\n",
       "      <td>New York</td>\n",
       "      <td>NaN</td>\n",
       "      <td>NaN</td>\n",
       "      <td>Engineering</td>\n",
       "      <td>NaN</td>\n",
       "    </tr>\n",
       "    <tr>\n",
       "      <th>freq</th>\n",
       "      <td>1</td>\n",
       "      <td>NaN</td>\n",
       "      <td>1</td>\n",
       "      <td>NaN</td>\n",
       "      <td>NaN</td>\n",
       "      <td>2</td>\n",
       "      <td>NaN</td>\n",
       "    </tr>\n",
       "    <tr>\n",
       "      <th>mean</th>\n",
       "      <td>NaN</td>\n",
       "      <td>31.80000</td>\n",
       "      <td>NaN</td>\n",
       "      <td>93000.000000</td>\n",
       "      <td>6.20000</td>\n",
       "      <td>NaN</td>\n",
       "      <td>9300.000000</td>\n",
       "    </tr>\n",
       "    <tr>\n",
       "      <th>std</th>\n",
       "      <td>NaN</td>\n",
       "      <td>5.80517</td>\n",
       "      <td>NaN</td>\n",
       "      <td>19235.384062</td>\n",
       "      <td>3.03315</td>\n",
       "      <td>NaN</td>\n",
       "      <td>1923.538406</td>\n",
       "    </tr>\n",
       "    <tr>\n",
       "      <th>min</th>\n",
       "      <td>NaN</td>\n",
       "      <td>25.00000</td>\n",
       "      <td>NaN</td>\n",
       "      <td>70000.000000</td>\n",
       "      <td>2.00000</td>\n",
       "      <td>NaN</td>\n",
       "      <td>7000.000000</td>\n",
       "    </tr>\n",
       "    <tr>\n",
       "      <th>25%</th>\n",
       "      <td>NaN</td>\n",
       "      <td>29.00000</td>\n",
       "      <td>NaN</td>\n",
       "      <td>80000.000000</td>\n",
       "      <td>5.00000</td>\n",
       "      <td>NaN</td>\n",
       "      <td>8000.000000</td>\n",
       "    </tr>\n",
       "    <tr>\n",
       "      <th>50%</th>\n",
       "      <td>NaN</td>\n",
       "      <td>30.00000</td>\n",
       "      <td>NaN</td>\n",
       "      <td>95000.000000</td>\n",
       "      <td>6.00000</td>\n",
       "      <td>NaN</td>\n",
       "      <td>9500.000000</td>\n",
       "    </tr>\n",
       "    <tr>\n",
       "      <th>75%</th>\n",
       "      <td>NaN</td>\n",
       "      <td>35.00000</td>\n",
       "      <td>NaN</td>\n",
       "      <td>100000.000000</td>\n",
       "      <td>8.00000</td>\n",
       "      <td>NaN</td>\n",
       "      <td>10000.000000</td>\n",
       "    </tr>\n",
       "    <tr>\n",
       "      <th>max</th>\n",
       "      <td>NaN</td>\n",
       "      <td>40.00000</td>\n",
       "      <td>NaN</td>\n",
       "      <td>120000.000000</td>\n",
       "      <td>10.00000</td>\n",
       "      <td>NaN</td>\n",
       "      <td>12000.000000</td>\n",
       "    </tr>\n",
       "  </tbody>\n",
       "</table>\n",
       "</div>"
      ],
      "text/plain": [
       "         Name       Age      City         Income  Experience   Department  \\\n",
       "count       5   5.00000         5       5.000000     5.00000            5   \n",
       "unique      5       NaN         5            NaN         NaN            4   \n",
       "top     Alice       NaN  New York            NaN         NaN  Engineering   \n",
       "freq        1       NaN         1            NaN         NaN            2   \n",
       "mean      NaN  31.80000       NaN   93000.000000     6.20000          NaN   \n",
       "std       NaN   5.80517       NaN   19235.384062     3.03315          NaN   \n",
       "min       NaN  25.00000       NaN   70000.000000     2.00000          NaN   \n",
       "25%       NaN  29.00000       NaN   80000.000000     5.00000          NaN   \n",
       "50%       NaN  30.00000       NaN   95000.000000     6.00000          NaN   \n",
       "75%       NaN  35.00000       NaN  100000.000000     8.00000          NaN   \n",
       "max       NaN  40.00000       NaN  120000.000000    10.00000          NaN   \n",
       "\n",
       "               Bonus  \n",
       "count       5.000000  \n",
       "unique           NaN  \n",
       "top              NaN  \n",
       "freq             NaN  \n",
       "mean     9300.000000  \n",
       "std      1923.538406  \n",
       "min      7000.000000  \n",
       "25%      8000.000000  \n",
       "50%      9500.000000  \n",
       "75%     10000.000000  \n",
       "max     12000.000000  "
      ]
     },
     "execution_count": 68,
     "metadata": {},
     "output_type": "execute_result"
    }
   ],
   "source": [
    "df.describe(include=\"all\")"
   ]
  },
  {
   "cell_type": "code",
   "execution_count": 69,
   "id": "b80c8802-231f-4930-ac8f-e50879a42261",
   "metadata": {},
   "outputs": [],
   "source": [
    "df.to_excel(\"output.xlsx\",index=False)"
   ]
  },
  {
   "cell_type": "code",
   "execution_count": 70,
   "id": "d50e2e01-e024-4e2b-8eef-d45c37ff5aff",
   "metadata": {},
   "outputs": [],
   "source": [
    "df.to_csv(\"output1.csv\")"
   ]
  },
  {
   "cell_type": "code",
   "execution_count": 72,
   "id": "11dac544-99d8-438a-82b7-919f7e7c98f5",
   "metadata": {},
   "outputs": [
    {
     "data": {
      "text/html": [
       "<div>\n",
       "<style scoped>\n",
       "    .dataframe tbody tr th:only-of-type {\n",
       "        vertical-align: middle;\n",
       "    }\n",
       "\n",
       "    .dataframe tbody tr th {\n",
       "        vertical-align: top;\n",
       "    }\n",
       "\n",
       "    .dataframe thead th {\n",
       "        text-align: right;\n",
       "    }\n",
       "</style>\n",
       "<table border=\"1\" class=\"dataframe\">\n",
       "  <thead>\n",
       "    <tr style=\"text-align: right;\">\n",
       "      <th></th>\n",
       "      <th>Name</th>\n",
       "      <th>Age</th>\n",
       "      <th>City</th>\n",
       "      <th>Income</th>\n",
       "      <th>Experience</th>\n",
       "      <th>Department</th>\n",
       "      <th>Bonus</th>\n",
       "    </tr>\n",
       "  </thead>\n",
       "  <tbody>\n",
       "    <tr>\n",
       "      <th>0</th>\n",
       "      <td>Alice</td>\n",
       "      <td>25</td>\n",
       "      <td>New York</td>\n",
       "      <td>70000</td>\n",
       "      <td>2</td>\n",
       "      <td>HR</td>\n",
       "      <td>7000.0</td>\n",
       "    </tr>\n",
       "  </tbody>\n",
       "</table>\n",
       "</div>"
      ],
      "text/plain": [
       "    Name  Age      City  Income  Experience Department   Bonus\n",
       "0  Alice   25  New York   70000           2         HR  7000.0"
      ]
     },
     "execution_count": 72,
     "metadata": {},
     "output_type": "execute_result"
    }
   ],
   "source": [
    "df[df[\"City\"]==\"New York\"]"
   ]
  },
  {
   "cell_type": "code",
   "execution_count": 75,
   "id": "61116c48-e37f-4063-81a3-7631ac4e9568",
   "metadata": {},
   "outputs": [
    {
     "data": {
      "text/html": [
       "<div>\n",
       "<style scoped>\n",
       "    .dataframe tbody tr th:only-of-type {\n",
       "        vertical-align: middle;\n",
       "    }\n",
       "\n",
       "    .dataframe tbody tr th {\n",
       "        vertical-align: top;\n",
       "    }\n",
       "\n",
       "    .dataframe thead th {\n",
       "        text-align: right;\n",
       "    }\n",
       "</style>\n",
       "<table border=\"1\" class=\"dataframe\">\n",
       "  <thead>\n",
       "    <tr style=\"text-align: right;\">\n",
       "      <th></th>\n",
       "      <th>Name</th>\n",
       "      <th>Age</th>\n",
       "      <th>City</th>\n",
       "      <th>Income</th>\n",
       "      <th>Experience</th>\n",
       "      <th>Department</th>\n",
       "      <th>Bonus</th>\n",
       "    </tr>\n",
       "  </thead>\n",
       "  <tbody>\n",
       "    <tr>\n",
       "      <th>2</th>\n",
       "      <td>Charlie</td>\n",
       "      <td>35</td>\n",
       "      <td>Chicago</td>\n",
       "      <td>120000</td>\n",
       "      <td>10</td>\n",
       "      <td>Engineering</td>\n",
       "      <td>12000.0</td>\n",
       "    </tr>\n",
       "    <tr>\n",
       "      <th>3</th>\n",
       "      <td>David</td>\n",
       "      <td>40</td>\n",
       "      <td>Houston</td>\n",
       "      <td>100000</td>\n",
       "      <td>8</td>\n",
       "      <td>Engineering</td>\n",
       "      <td>10000.0</td>\n",
       "    </tr>\n",
       "  </tbody>\n",
       "</table>\n",
       "</div>"
      ],
      "text/plain": [
       "      Name  Age     City  Income  Experience   Department    Bonus\n",
       "2  Charlie   35  Chicago  120000          10  Engineering  12000.0\n",
       "3    David   40  Houston  100000           8  Engineering  10000.0"
      ]
     },
     "execution_count": 75,
     "metadata": {},
     "output_type": "execute_result"
    }
   ],
   "source": [
    "df[(df[\"Age\"]>30) & (df[\"Income\"]>90000)]"
   ]
  },
  {
   "cell_type": "code",
   "execution_count": null,
   "id": "99a02c08-ff0a-4dd3-adfb-98194a24b62c",
   "metadata": {},
   "outputs": [],
   "source": [
    "### Dataset1"
   ]
  },
  {
   "cell_type": "code",
   "execution_count": 103,
   "id": "ec1a0de2-b697-4a41-9111-3d03ac657553",
   "metadata": {},
   "outputs": [],
   "source": [
    "import numpy as np\n",
    "import pandas as pd\n",
    "import matplotlib.pyplot as plt\n",
    "import seaborn as sns"
   ]
  },
  {
   "cell_type": "code",
   "execution_count": 104,
   "id": "3b1b1643-4f16-4bf2-b030-65eb430e3d07",
   "metadata": {},
   "outputs": [],
   "source": [
    "df=pd.read_csv(\"online_sales-1.csv\")"
   ]
  },
  {
   "cell_type": "code",
   "execution_count": 105,
   "id": "89f5d98f-8503-4ede-9509-8d8029bbfc33",
   "metadata": {},
   "outputs": [
    {
     "data": {
      "text/html": [
       "<div>\n",
       "<style scoped>\n",
       "    .dataframe tbody tr th:only-of-type {\n",
       "        vertical-align: middle;\n",
       "    }\n",
       "\n",
       "    .dataframe tbody tr th {\n",
       "        vertical-align: top;\n",
       "    }\n",
       "\n",
       "    .dataframe thead th {\n",
       "        text-align: right;\n",
       "    }\n",
       "</style>\n",
       "<table border=\"1\" class=\"dataframe\">\n",
       "  <thead>\n",
       "    <tr style=\"text-align: right;\">\n",
       "      <th></th>\n",
       "      <th>InvoiceNo</th>\n",
       "      <th>StockCode</th>\n",
       "      <th>Description</th>\n",
       "      <th>Quantity</th>\n",
       "      <th>InvoiceDate</th>\n",
       "      <th>UnitPrice</th>\n",
       "      <th>CustomerID</th>\n",
       "      <th>Country</th>\n",
       "    </tr>\n",
       "  </thead>\n",
       "  <tbody>\n",
       "    <tr>\n",
       "      <th>0</th>\n",
       "      <td>536365</td>\n",
       "      <td>85123A</td>\n",
       "      <td>WHITE HANGING HEART T-LIGHT HOLDER</td>\n",
       "      <td>6</td>\n",
       "      <td>12-01-2010 08:26</td>\n",
       "      <td>2.55</td>\n",
       "      <td>17850.0</td>\n",
       "      <td>United Kingdom</td>\n",
       "    </tr>\n",
       "    <tr>\n",
       "      <th>1</th>\n",
       "      <td>536365</td>\n",
       "      <td>71053</td>\n",
       "      <td>WHITE METAL LANTERN</td>\n",
       "      <td>6</td>\n",
       "      <td>12-01-2010 08:26</td>\n",
       "      <td>3.39</td>\n",
       "      <td>17850.0</td>\n",
       "      <td>United Kingdom</td>\n",
       "    </tr>\n",
       "    <tr>\n",
       "      <th>2</th>\n",
       "      <td>536365</td>\n",
       "      <td>84406B</td>\n",
       "      <td>CREAM CUPID HEARTS COAT HANGER</td>\n",
       "      <td>8</td>\n",
       "      <td>12-01-2010 08:26</td>\n",
       "      <td>2.75</td>\n",
       "      <td>17850.0</td>\n",
       "      <td>United Kingdom</td>\n",
       "    </tr>\n",
       "    <tr>\n",
       "      <th>3</th>\n",
       "      <td>536365</td>\n",
       "      <td>84029G</td>\n",
       "      <td>KNITTED UNION FLAG HOT WATER BOTTLE</td>\n",
       "      <td>6</td>\n",
       "      <td>12-01-2010 08:26</td>\n",
       "      <td>3.39</td>\n",
       "      <td>17850.0</td>\n",
       "      <td>United Kingdom</td>\n",
       "    </tr>\n",
       "    <tr>\n",
       "      <th>4</th>\n",
       "      <td>536365</td>\n",
       "      <td>84029E</td>\n",
       "      <td>RED WOOLLY HOTTIE WHITE HEART.</td>\n",
       "      <td>6</td>\n",
       "      <td>12-01-2010 08:26</td>\n",
       "      <td>3.39</td>\n",
       "      <td>17850.0</td>\n",
       "      <td>United Kingdom</td>\n",
       "    </tr>\n",
       "    <tr>\n",
       "      <th>5</th>\n",
       "      <td>536365</td>\n",
       "      <td>22752</td>\n",
       "      <td>SET 7 BABUSHKA NESTING BOXES</td>\n",
       "      <td>2</td>\n",
       "      <td>12-01-2010 08:26</td>\n",
       "      <td>7.65</td>\n",
       "      <td>17850.0</td>\n",
       "      <td>United Kingdom</td>\n",
       "    </tr>\n",
       "    <tr>\n",
       "      <th>6</th>\n",
       "      <td>536365</td>\n",
       "      <td>21730</td>\n",
       "      <td>GLASS STAR FROSTED T-LIGHT HOLDER</td>\n",
       "      <td>6</td>\n",
       "      <td>12-01-2010 08:26</td>\n",
       "      <td>4.25</td>\n",
       "      <td>17850.0</td>\n",
       "      <td>United Kingdom</td>\n",
       "    </tr>\n",
       "    <tr>\n",
       "      <th>7</th>\n",
       "      <td>536366</td>\n",
       "      <td>22633</td>\n",
       "      <td>HAND WARMER UNION JACK</td>\n",
       "      <td>6</td>\n",
       "      <td>12-01-2010 08:28</td>\n",
       "      <td>1.85</td>\n",
       "      <td>17850.0</td>\n",
       "      <td>United Kingdom</td>\n",
       "    </tr>\n",
       "    <tr>\n",
       "      <th>8</th>\n",
       "      <td>536366</td>\n",
       "      <td>22632</td>\n",
       "      <td>HAND WARMER RED POLKA DOT</td>\n",
       "      <td>6</td>\n",
       "      <td>12-01-2010 08:28</td>\n",
       "      <td>1.85</td>\n",
       "      <td>17850.0</td>\n",
       "      <td>United Kingdom</td>\n",
       "    </tr>\n",
       "    <tr>\n",
       "      <th>9</th>\n",
       "      <td>536367</td>\n",
       "      <td>84879</td>\n",
       "      <td>ASSORTED COLOUR BIRD ORNAMENT</td>\n",
       "      <td>32</td>\n",
       "      <td>12-01-2010 08:34</td>\n",
       "      <td>1.69</td>\n",
       "      <td>13047.0</td>\n",
       "      <td>United Kingdom</td>\n",
       "    </tr>\n",
       "  </tbody>\n",
       "</table>\n",
       "</div>"
      ],
      "text/plain": [
       "  InvoiceNo StockCode                          Description  Quantity  \\\n",
       "0    536365    85123A   WHITE HANGING HEART T-LIGHT HOLDER         6   \n",
       "1    536365     71053                  WHITE METAL LANTERN         6   \n",
       "2    536365    84406B       CREAM CUPID HEARTS COAT HANGER         8   \n",
       "3    536365    84029G  KNITTED UNION FLAG HOT WATER BOTTLE         6   \n",
       "4    536365    84029E       RED WOOLLY HOTTIE WHITE HEART.         6   \n",
       "5    536365     22752         SET 7 BABUSHKA NESTING BOXES         2   \n",
       "6    536365     21730    GLASS STAR FROSTED T-LIGHT HOLDER         6   \n",
       "7    536366     22633               HAND WARMER UNION JACK         6   \n",
       "8    536366     22632            HAND WARMER RED POLKA DOT         6   \n",
       "9    536367     84879        ASSORTED COLOUR BIRD ORNAMENT        32   \n",
       "\n",
       "        InvoiceDate  UnitPrice  CustomerID         Country  \n",
       "0  12-01-2010 08:26       2.55     17850.0  United Kingdom  \n",
       "1  12-01-2010 08:26       3.39     17850.0  United Kingdom  \n",
       "2  12-01-2010 08:26       2.75     17850.0  United Kingdom  \n",
       "3  12-01-2010 08:26       3.39     17850.0  United Kingdom  \n",
       "4  12-01-2010 08:26       3.39     17850.0  United Kingdom  \n",
       "5  12-01-2010 08:26       7.65     17850.0  United Kingdom  \n",
       "6  12-01-2010 08:26       4.25     17850.0  United Kingdom  \n",
       "7  12-01-2010 08:28       1.85     17850.0  United Kingdom  \n",
       "8  12-01-2010 08:28       1.85     17850.0  United Kingdom  \n",
       "9  12-01-2010 08:34       1.69     13047.0  United Kingdom  "
      ]
     },
     "execution_count": 105,
     "metadata": {},
     "output_type": "execute_result"
    }
   ],
   "source": [
    "df.head(10)"
   ]
  },
  {
   "cell_type": "code",
   "execution_count": 106,
   "id": "b287cd3e-427a-48d6-908a-f9d214e2f37c",
   "metadata": {},
   "outputs": [
    {
     "data": {
      "text/html": [
       "<div>\n",
       "<style scoped>\n",
       "    .dataframe tbody tr th:only-of-type {\n",
       "        vertical-align: middle;\n",
       "    }\n",
       "\n",
       "    .dataframe tbody tr th {\n",
       "        vertical-align: top;\n",
       "    }\n",
       "\n",
       "    .dataframe thead th {\n",
       "        text-align: right;\n",
       "    }\n",
       "</style>\n",
       "<table border=\"1\" class=\"dataframe\">\n",
       "  <thead>\n",
       "    <tr style=\"text-align: right;\">\n",
       "      <th></th>\n",
       "      <th>InvoiceNo</th>\n",
       "      <th>StockCode</th>\n",
       "      <th>Description</th>\n",
       "      <th>Quantity</th>\n",
       "      <th>InvoiceDate</th>\n",
       "      <th>UnitPrice</th>\n",
       "      <th>CustomerID</th>\n",
       "      <th>Country</th>\n",
       "    </tr>\n",
       "  </thead>\n",
       "  <tbody>\n",
       "    <tr>\n",
       "      <th>240002</th>\n",
       "      <td>558077</td>\n",
       "      <td>47590A</td>\n",
       "      <td>BLUE HAPPY BIRTHDAY BUNTING</td>\n",
       "      <td>12</td>\n",
       "      <td>6/26/11 10:59</td>\n",
       "      <td>5.45</td>\n",
       "      <td>13408.0</td>\n",
       "      <td>United Kingdom</td>\n",
       "    </tr>\n",
       "    <tr>\n",
       "      <th>240003</th>\n",
       "      <td>558077</td>\n",
       "      <td>82600</td>\n",
       "      <td>NO SINGING METAL SIGN</td>\n",
       "      <td>12</td>\n",
       "      <td>6/26/11 10:59</td>\n",
       "      <td>2.10</td>\n",
       "      <td>13408.0</td>\n",
       "      <td>United Kingdom</td>\n",
       "    </tr>\n",
       "    <tr>\n",
       "      <th>240004</th>\n",
       "      <td>558077</td>\n",
       "      <td>85123A</td>\n",
       "      <td>WHITE HANGING HEART T-LIGHT HOLDER</td>\n",
       "      <td>32</td>\n",
       "      <td>6/26/11 10:59</td>\n",
       "      <td>2.55</td>\n",
       "      <td>13408.0</td>\n",
       "      <td>United Kingdom</td>\n",
       "    </tr>\n",
       "    <tr>\n",
       "      <th>240005</th>\n",
       "      <td>558077</td>\n",
       "      <td>22746</td>\n",
       "      <td>POPPY'S PLAYHOUSE LIVINGROOM</td>\n",
       "      <td>12</td>\n",
       "      <td>6/26/11 10:59</td>\n",
       "      <td>2.10</td>\n",
       "      <td>13408.0</td>\n",
       "      <td>United Kingdom</td>\n",
       "    </tr>\n",
       "    <tr>\n",
       "      <th>240006</th>\n",
       "      <td>558077</td>\n",
       "      <td>23251</td>\n",
       "      <td>VINTAGE RED ENAMEL TRIM MUG</td>\n",
       "      <td>12</td>\n",
       "      <td>6/26/11 10:59</td>\n",
       "      <td>1.25</td>\n",
       "      <td>13408.0</td>\n",
       "      <td>Unit</td>\n",
       "    </tr>\n",
       "  </tbody>\n",
       "</table>\n",
       "</div>"
      ],
      "text/plain": [
       "       InvoiceNo StockCode                         Description  Quantity  \\\n",
       "240002    558077    47590A         BLUE HAPPY BIRTHDAY BUNTING        12   \n",
       "240003    558077     82600               NO SINGING METAL SIGN        12   \n",
       "240004    558077    85123A  WHITE HANGING HEART T-LIGHT HOLDER        32   \n",
       "240005    558077     22746       POPPY'S PLAYHOUSE LIVINGROOM         12   \n",
       "240006    558077     23251        VINTAGE RED ENAMEL TRIM MUG         12   \n",
       "\n",
       "          InvoiceDate  UnitPrice  CustomerID         Country  \n",
       "240002  6/26/11 10:59       5.45     13408.0  United Kingdom  \n",
       "240003  6/26/11 10:59       2.10     13408.0  United Kingdom  \n",
       "240004  6/26/11 10:59       2.55     13408.0  United Kingdom  \n",
       "240005  6/26/11 10:59       2.10     13408.0  United Kingdom  \n",
       "240006  6/26/11 10:59       1.25     13408.0            Unit  "
      ]
     },
     "execution_count": 106,
     "metadata": {},
     "output_type": "execute_result"
    }
   ],
   "source": [
    "df.tail()"
   ]
  },
  {
   "cell_type": "code",
   "execution_count": 107,
   "id": "c07c4a93-83bc-448d-8687-d388286e3735",
   "metadata": {},
   "outputs": [
    {
     "data": {
      "text/html": [
       "<div>\n",
       "<style scoped>\n",
       "    .dataframe tbody tr th:only-of-type {\n",
       "        vertical-align: middle;\n",
       "    }\n",
       "\n",
       "    .dataframe tbody tr th {\n",
       "        vertical-align: top;\n",
       "    }\n",
       "\n",
       "    .dataframe thead th {\n",
       "        text-align: right;\n",
       "    }\n",
       "</style>\n",
       "<table border=\"1\" class=\"dataframe\">\n",
       "  <thead>\n",
       "    <tr style=\"text-align: right;\">\n",
       "      <th></th>\n",
       "      <th>InvoiceNo</th>\n",
       "      <th>StockCode</th>\n",
       "      <th>Description</th>\n",
       "      <th>Quantity</th>\n",
       "      <th>InvoiceDate</th>\n",
       "      <th>UnitPrice</th>\n",
       "      <th>CustomerID</th>\n",
       "      <th>Country</th>\n",
       "    </tr>\n",
       "  </thead>\n",
       "  <tbody>\n",
       "    <tr>\n",
       "      <th>239997</th>\n",
       "      <td>558077</td>\n",
       "      <td>21506</td>\n",
       "      <td>FANCY FONT BIRTHDAY CARD,</td>\n",
       "      <td>24</td>\n",
       "      <td>6/26/11 10:59</td>\n",
       "      <td>0.42</td>\n",
       "      <td>13408.0</td>\n",
       "      <td>United Kingdom</td>\n",
       "    </tr>\n",
       "    <tr>\n",
       "      <th>239998</th>\n",
       "      <td>558077</td>\n",
       "      <td>21673</td>\n",
       "      <td>WHITE SPOT BLUE CERAMIC DRAWER KNOB</td>\n",
       "      <td>24</td>\n",
       "      <td>6/26/11 10:59</td>\n",
       "      <td>1.25</td>\n",
       "      <td>13408.0</td>\n",
       "      <td>United Kingdom</td>\n",
       "    </tr>\n",
       "    <tr>\n",
       "      <th>239999</th>\n",
       "      <td>558077</td>\n",
       "      <td>21700</td>\n",
       "      <td>BIG DOUGHNUT FRIDGE MAGNETS</td>\n",
       "      <td>12</td>\n",
       "      <td>6/26/11 10:59</td>\n",
       "      <td>0.85</td>\n",
       "      <td>13408.0</td>\n",
       "      <td>United Kingdom</td>\n",
       "    </tr>\n",
       "    <tr>\n",
       "      <th>240000</th>\n",
       "      <td>558077</td>\n",
       "      <td>22355</td>\n",
       "      <td>CHARLOTTE BAG SUKI DESIGN</td>\n",
       "      <td>30</td>\n",
       "      <td>6/26/11 10:59</td>\n",
       "      <td>0.85</td>\n",
       "      <td>13408.0</td>\n",
       "      <td>United Kingdom</td>\n",
       "    </tr>\n",
       "    <tr>\n",
       "      <th>240001</th>\n",
       "      <td>558077</td>\n",
       "      <td>22726</td>\n",
       "      <td>ALARM CLOCK BAKELIKE GREEN</td>\n",
       "      <td>24</td>\n",
       "      <td>6/26/11 10:59</td>\n",
       "      <td>3.75</td>\n",
       "      <td>13408.0</td>\n",
       "      <td>United Kingdom</td>\n",
       "    </tr>\n",
       "    <tr>\n",
       "      <th>240002</th>\n",
       "      <td>558077</td>\n",
       "      <td>47590A</td>\n",
       "      <td>BLUE HAPPY BIRTHDAY BUNTING</td>\n",
       "      <td>12</td>\n",
       "      <td>6/26/11 10:59</td>\n",
       "      <td>5.45</td>\n",
       "      <td>13408.0</td>\n",
       "      <td>United Kingdom</td>\n",
       "    </tr>\n",
       "    <tr>\n",
       "      <th>240003</th>\n",
       "      <td>558077</td>\n",
       "      <td>82600</td>\n",
       "      <td>NO SINGING METAL SIGN</td>\n",
       "      <td>12</td>\n",
       "      <td>6/26/11 10:59</td>\n",
       "      <td>2.10</td>\n",
       "      <td>13408.0</td>\n",
       "      <td>United Kingdom</td>\n",
       "    </tr>\n",
       "    <tr>\n",
       "      <th>240004</th>\n",
       "      <td>558077</td>\n",
       "      <td>85123A</td>\n",
       "      <td>WHITE HANGING HEART T-LIGHT HOLDER</td>\n",
       "      <td>32</td>\n",
       "      <td>6/26/11 10:59</td>\n",
       "      <td>2.55</td>\n",
       "      <td>13408.0</td>\n",
       "      <td>United Kingdom</td>\n",
       "    </tr>\n",
       "    <tr>\n",
       "      <th>240005</th>\n",
       "      <td>558077</td>\n",
       "      <td>22746</td>\n",
       "      <td>POPPY'S PLAYHOUSE LIVINGROOM</td>\n",
       "      <td>12</td>\n",
       "      <td>6/26/11 10:59</td>\n",
       "      <td>2.10</td>\n",
       "      <td>13408.0</td>\n",
       "      <td>United Kingdom</td>\n",
       "    </tr>\n",
       "    <tr>\n",
       "      <th>240006</th>\n",
       "      <td>558077</td>\n",
       "      <td>23251</td>\n",
       "      <td>VINTAGE RED ENAMEL TRIM MUG</td>\n",
       "      <td>12</td>\n",
       "      <td>6/26/11 10:59</td>\n",
       "      <td>1.25</td>\n",
       "      <td>13408.0</td>\n",
       "      <td>Unit</td>\n",
       "    </tr>\n",
       "  </tbody>\n",
       "</table>\n",
       "</div>"
      ],
      "text/plain": [
       "       InvoiceNo StockCode                          Description  Quantity  \\\n",
       "239997    558077     21506           FANCY FONT BIRTHDAY CARD,         24   \n",
       "239998    558077     21673  WHITE SPOT BLUE CERAMIC DRAWER KNOB        24   \n",
       "239999    558077     21700          BIG DOUGHNUT FRIDGE MAGNETS        12   \n",
       "240000    558077     22355            CHARLOTTE BAG SUKI DESIGN        30   \n",
       "240001    558077     22726           ALARM CLOCK BAKELIKE GREEN        24   \n",
       "240002    558077    47590A          BLUE HAPPY BIRTHDAY BUNTING        12   \n",
       "240003    558077     82600                NO SINGING METAL SIGN        12   \n",
       "240004    558077    85123A   WHITE HANGING HEART T-LIGHT HOLDER        32   \n",
       "240005    558077     22746        POPPY'S PLAYHOUSE LIVINGROOM         12   \n",
       "240006    558077     23251         VINTAGE RED ENAMEL TRIM MUG         12   \n",
       "\n",
       "          InvoiceDate  UnitPrice  CustomerID         Country  \n",
       "239997  6/26/11 10:59       0.42     13408.0  United Kingdom  \n",
       "239998  6/26/11 10:59       1.25     13408.0  United Kingdom  \n",
       "239999  6/26/11 10:59       0.85     13408.0  United Kingdom  \n",
       "240000  6/26/11 10:59       0.85     13408.0  United Kingdom  \n",
       "240001  6/26/11 10:59       3.75     13408.0  United Kingdom  \n",
       "240002  6/26/11 10:59       5.45     13408.0  United Kingdom  \n",
       "240003  6/26/11 10:59       2.10     13408.0  United Kingdom  \n",
       "240004  6/26/11 10:59       2.55     13408.0  United Kingdom  \n",
       "240005  6/26/11 10:59       2.10     13408.0  United Kingdom  \n",
       "240006  6/26/11 10:59       1.25     13408.0            Unit  "
      ]
     },
     "execution_count": 107,
     "metadata": {},
     "output_type": "execute_result"
    }
   ],
   "source": [
    "df.tail(10)"
   ]
  },
  {
   "cell_type": "code",
   "execution_count": 108,
   "id": "1e0e50a7-00ab-4747-b933-08ed385ba2f1",
   "metadata": {},
   "outputs": [
    {
     "data": {
      "text/html": [
       "<div>\n",
       "<style scoped>\n",
       "    .dataframe tbody tr th:only-of-type {\n",
       "        vertical-align: middle;\n",
       "    }\n",
       "\n",
       "    .dataframe tbody tr th {\n",
       "        vertical-align: top;\n",
       "    }\n",
       "\n",
       "    .dataframe thead th {\n",
       "        text-align: right;\n",
       "    }\n",
       "</style>\n",
       "<table border=\"1\" class=\"dataframe\">\n",
       "  <thead>\n",
       "    <tr style=\"text-align: right;\">\n",
       "      <th></th>\n",
       "      <th>InvoiceNo</th>\n",
       "      <th>StockCode</th>\n",
       "      <th>Description</th>\n",
       "      <th>Quantity</th>\n",
       "      <th>InvoiceDate</th>\n",
       "      <th>UnitPrice</th>\n",
       "      <th>CustomerID</th>\n",
       "      <th>Country</th>\n",
       "    </tr>\n",
       "  </thead>\n",
       "  <tbody>\n",
       "    <tr>\n",
       "      <th>144492</th>\n",
       "      <td>548744</td>\n",
       "      <td>17107D</td>\n",
       "      <td>FLOWER FAIRY,5 SUMMER B'DRAW LINERS</td>\n",
       "      <td>6</td>\n",
       "      <td>04-04-2011 12:07</td>\n",
       "      <td>2.55</td>\n",
       "      <td>17725.0</td>\n",
       "      <td>United Kingdom</td>\n",
       "    </tr>\n",
       "    <tr>\n",
       "      <th>168949</th>\n",
       "      <td>551152</td>\n",
       "      <td>22083</td>\n",
       "      <td>PAPER CHAIN KIT RETROSPOT</td>\n",
       "      <td>1</td>\n",
       "      <td>4/26/11 14:47</td>\n",
       "      <td>2.95</td>\n",
       "      <td>13230.0</td>\n",
       "      <td>United Kingdom</td>\n",
       "    </tr>\n",
       "    <tr>\n",
       "      <th>25347</th>\n",
       "      <td>538367</td>\n",
       "      <td>84559B</td>\n",
       "      <td>3D SHEET OF CAT STICKERS</td>\n",
       "      <td>5</td>\n",
       "      <td>12-12-2010 10:48</td>\n",
       "      <td>0.85</td>\n",
       "      <td>14800.0</td>\n",
       "      <td>United Kingdom</td>\n",
       "    </tr>\n",
       "    <tr>\n",
       "      <th>53009</th>\n",
       "      <td>540821</td>\n",
       "      <td>90042C</td>\n",
       "      <td>FRESHWATER PEARL BRACELET IVORY</td>\n",
       "      <td>1</td>\n",
       "      <td>01-11-2011 13:16</td>\n",
       "      <td>2.54</td>\n",
       "      <td>NaN</td>\n",
       "      <td>United Kingdom</td>\n",
       "    </tr>\n",
       "    <tr>\n",
       "      <th>28493</th>\n",
       "      <td>538638</td>\n",
       "      <td>21754</td>\n",
       "      <td>HOME BUILDING BLOCK WORD</td>\n",
       "      <td>1</td>\n",
       "      <td>12/13/10 14:16</td>\n",
       "      <td>5.95</td>\n",
       "      <td>17231.0</td>\n",
       "      <td>United Kingdom</td>\n",
       "    </tr>\n",
       "    <tr>\n",
       "      <th>210292</th>\n",
       "      <td>555277</td>\n",
       "      <td>85116</td>\n",
       "      <td>BLACK CANDELABRA T-LIGHT HOLDER</td>\n",
       "      <td>2</td>\n",
       "      <td>06-01-2011 17:30</td>\n",
       "      <td>1.63</td>\n",
       "      <td>NaN</td>\n",
       "      <td>United Kingdom</td>\n",
       "    </tr>\n",
       "    <tr>\n",
       "      <th>35494</th>\n",
       "      <td>539436</td>\n",
       "      <td>22759</td>\n",
       "      <td>SET OF 3 NOTEBOOKS IN PARCEL</td>\n",
       "      <td>2</td>\n",
       "      <td>12/17/10 14:49</td>\n",
       "      <td>3.36</td>\n",
       "      <td>NaN</td>\n",
       "      <td>United Kingdom</td>\n",
       "    </tr>\n",
       "    <tr>\n",
       "      <th>209490</th>\n",
       "      <td>555245</td>\n",
       "      <td>21830</td>\n",
       "      <td>ASSORTED CREEPY CRAWLIES</td>\n",
       "      <td>24</td>\n",
       "      <td>06-01-2011 14:12</td>\n",
       "      <td>0.42</td>\n",
       "      <td>14800.0</td>\n",
       "      <td>United Kingdom</td>\n",
       "    </tr>\n",
       "    <tr>\n",
       "      <th>238265</th>\n",
       "      <td>557937</td>\n",
       "      <td>22712</td>\n",
       "      <td>CARD DOLLY GIRL</td>\n",
       "      <td>1</td>\n",
       "      <td>6/23/11 15:30</td>\n",
       "      <td>0.83</td>\n",
       "      <td>NaN</td>\n",
       "      <td>United Kingdom</td>\n",
       "    </tr>\n",
       "    <tr>\n",
       "      <th>13909</th>\n",
       "      <td>537434</td>\n",
       "      <td>90173</td>\n",
       "      <td>PAIR BUTTERFLY HAIR CLIPS</td>\n",
       "      <td>1</td>\n",
       "      <td>12-06-2010 16:57</td>\n",
       "      <td>3.81</td>\n",
       "      <td>NaN</td>\n",
       "      <td>United Kingdom</td>\n",
       "    </tr>\n",
       "    <tr>\n",
       "      <th>146624</th>\n",
       "      <td>549007</td>\n",
       "      <td>20801</td>\n",
       "      <td>LARGE PINK GLASS SUNDAE DISH</td>\n",
       "      <td>16</td>\n",
       "      <td>04-05-2011 14:38</td>\n",
       "      <td>0.79</td>\n",
       "      <td>17470.0</td>\n",
       "      <td>United Kingdom</td>\n",
       "    </tr>\n",
       "    <tr>\n",
       "      <th>149456</th>\n",
       "      <td>549295</td>\n",
       "      <td>20619</td>\n",
       "      <td>TROPICAL PASSPORT COVER</td>\n",
       "      <td>4</td>\n",
       "      <td>04-07-2011 19:49</td>\n",
       "      <td>1.63</td>\n",
       "      <td>NaN</td>\n",
       "      <td>United Kingdom</td>\n",
       "    </tr>\n",
       "    <tr>\n",
       "      <th>210078</th>\n",
       "      <td>555276</td>\n",
       "      <td>22918</td>\n",
       "      <td>HERB MARKER PARSLEY</td>\n",
       "      <td>1</td>\n",
       "      <td>06-01-2011 17:28</td>\n",
       "      <td>1.63</td>\n",
       "      <td>NaN</td>\n",
       "      <td>United Kingdom</td>\n",
       "    </tr>\n",
       "    <tr>\n",
       "      <th>226863</th>\n",
       "      <td>556813</td>\n",
       "      <td>22781</td>\n",
       "      <td>GUMBALL MAGAZINE RACK</td>\n",
       "      <td>1</td>\n",
       "      <td>6/14/11 17:28</td>\n",
       "      <td>14.96</td>\n",
       "      <td>NaN</td>\n",
       "      <td>United Kingdom</td>\n",
       "    </tr>\n",
       "    <tr>\n",
       "      <th>228471</th>\n",
       "      <td>556932</td>\n",
       "      <td>23093</td>\n",
       "      <td>SMALL PARISIENNE HEART PHOTO FRAME</td>\n",
       "      <td>1</td>\n",
       "      <td>6/15/11 15:41</td>\n",
       "      <td>4.96</td>\n",
       "      <td>NaN</td>\n",
       "      <td>United Kingdom</td>\n",
       "    </tr>\n",
       "    <tr>\n",
       "      <th>84641</th>\n",
       "      <td>543400</td>\n",
       "      <td>21901</td>\n",
       "      <td>KEY FOB , BACK DOOR</td>\n",
       "      <td>2</td>\n",
       "      <td>02-08-2011 11:27</td>\n",
       "      <td>0.65</td>\n",
       "      <td>14688.0</td>\n",
       "      <td>United Kingdom</td>\n",
       "    </tr>\n",
       "    <tr>\n",
       "      <th>119268</th>\n",
       "      <td>546537</td>\n",
       "      <td>20702</td>\n",
       "      <td>PINK PADDED MOBILE</td>\n",
       "      <td>2</td>\n",
       "      <td>3/14/11 14:32</td>\n",
       "      <td>4.25</td>\n",
       "      <td>15005.0</td>\n",
       "      <td>United Kingdom</td>\n",
       "    </tr>\n",
       "    <tr>\n",
       "      <th>32832</th>\n",
       "      <td>539185</td>\n",
       "      <td>21399</td>\n",
       "      <td>BLUE POLKADOT COFFEE MUG</td>\n",
       "      <td>3</td>\n",
       "      <td>12/16/10 11:53</td>\n",
       "      <td>2.10</td>\n",
       "      <td>16470.0</td>\n",
       "      <td>United Kingdom</td>\n",
       "    </tr>\n",
       "    <tr>\n",
       "      <th>68012</th>\n",
       "      <td>541849</td>\n",
       "      <td>22136</td>\n",
       "      <td>LOVE HEART SOCK HANGER</td>\n",
       "      <td>2</td>\n",
       "      <td>1/23/11 13:34</td>\n",
       "      <td>1.65</td>\n",
       "      <td>13230.0</td>\n",
       "      <td>United Kingdom</td>\n",
       "    </tr>\n",
       "    <tr>\n",
       "      <th>47312</th>\n",
       "      <td>540409</td>\n",
       "      <td>22624</td>\n",
       "      <td>IVORY KITCHEN SCALES</td>\n",
       "      <td>12</td>\n",
       "      <td>01-07-2011 10:00</td>\n",
       "      <td>7.65</td>\n",
       "      <td>16019.0</td>\n",
       "      <td>United Kingdom</td>\n",
       "    </tr>\n",
       "    <tr>\n",
       "      <th>155241</th>\n",
       "      <td>549981</td>\n",
       "      <td>21891</td>\n",
       "      <td>TRADITIONAL WOODEN SKIPPING ROPE</td>\n",
       "      <td>1</td>\n",
       "      <td>4/13/11 15:49</td>\n",
       "      <td>1.45</td>\n",
       "      <td>16348.0</td>\n",
       "      <td>United Kingdom</td>\n",
       "    </tr>\n",
       "    <tr>\n",
       "      <th>128979</th>\n",
       "      <td>547371</td>\n",
       "      <td>84946</td>\n",
       "      <td>ANTIQUE SILVER TEA GLASS ETCHED</td>\n",
       "      <td>48</td>\n",
       "      <td>3/22/11 13:38</td>\n",
       "      <td>1.25</td>\n",
       "      <td>14377.0</td>\n",
       "      <td>United Kingdom</td>\n",
       "    </tr>\n",
       "    <tr>\n",
       "      <th>137559</th>\n",
       "      <td>548163</td>\n",
       "      <td>22385</td>\n",
       "      <td>JUMBO BAG SPACEBOY DESIGN</td>\n",
       "      <td>2</td>\n",
       "      <td>3/29/11 13:43</td>\n",
       "      <td>4.13</td>\n",
       "      <td>NaN</td>\n",
       "      <td>United Kingdom</td>\n",
       "    </tr>\n",
       "    <tr>\n",
       "      <th>198265</th>\n",
       "      <td>554028</td>\n",
       "      <td>23163</td>\n",
       "      <td>REGENCY SUGAR TONGS</td>\n",
       "      <td>8</td>\n",
       "      <td>5/20/11 13:43</td>\n",
       "      <td>2.49</td>\n",
       "      <td>15410.0</td>\n",
       "      <td>United Kingdom</td>\n",
       "    </tr>\n",
       "    <tr>\n",
       "      <th>168004</th>\n",
       "      <td>551009</td>\n",
       "      <td>47566b</td>\n",
       "      <td>TEA TIME PARTY BUNTING</td>\n",
       "      <td>5</td>\n",
       "      <td>4/26/11 9:50</td>\n",
       "      <td>8.29</td>\n",
       "      <td>NaN</td>\n",
       "      <td>United Kingdom</td>\n",
       "    </tr>\n",
       "  </tbody>\n",
       "</table>\n",
       "</div>"
      ],
      "text/plain": [
       "       InvoiceNo StockCode                          Description  Quantity  \\\n",
       "144492    548744    17107D  FLOWER FAIRY,5 SUMMER B'DRAW LINERS         6   \n",
       "168949    551152     22083            PAPER CHAIN KIT RETROSPOT         1   \n",
       "25347     538367    84559B             3D SHEET OF CAT STICKERS         5   \n",
       "53009     540821    90042C      FRESHWATER PEARL BRACELET IVORY         1   \n",
       "28493     538638     21754             HOME BUILDING BLOCK WORD         1   \n",
       "210292    555277     85116      BLACK CANDELABRA T-LIGHT HOLDER         2   \n",
       "35494     539436     22759         SET OF 3 NOTEBOOKS IN PARCEL         2   \n",
       "209490    555245     21830             ASSORTED CREEPY CRAWLIES        24   \n",
       "238265    557937     22712                     CARD DOLLY GIRL          1   \n",
       "13909     537434     90173            PAIR BUTTERFLY HAIR CLIPS         1   \n",
       "146624    549007     20801         LARGE PINK GLASS SUNDAE DISH        16   \n",
       "149456    549295     20619             TROPICAL PASSPORT COVER          4   \n",
       "210078    555276     22918                  HERB MARKER PARSLEY         1   \n",
       "226863    556813     22781                GUMBALL MAGAZINE RACK         1   \n",
       "228471    556932     23093  SMALL PARISIENNE HEART PHOTO FRAME          1   \n",
       "84641     543400     21901                 KEY FOB , BACK DOOR          2   \n",
       "119268    546537     20702                   PINK PADDED MOBILE         2   \n",
       "32832     539185     21399             BLUE POLKADOT COFFEE MUG         3   \n",
       "68012     541849     22136               LOVE HEART SOCK HANGER         2   \n",
       "47312     540409     22624                 IVORY KITCHEN SCALES        12   \n",
       "155241    549981     21891     TRADITIONAL WOODEN SKIPPING ROPE         1   \n",
       "128979    547371     84946      ANTIQUE SILVER TEA GLASS ETCHED        48   \n",
       "137559    548163     22385            JUMBO BAG SPACEBOY DESIGN         2   \n",
       "198265    554028     23163                  REGENCY SUGAR TONGS         8   \n",
       "168004    551009    47566b               TEA TIME PARTY BUNTING         5   \n",
       "\n",
       "             InvoiceDate  UnitPrice  CustomerID         Country  \n",
       "144492  04-04-2011 12:07       2.55     17725.0  United Kingdom  \n",
       "168949     4/26/11 14:47       2.95     13230.0  United Kingdom  \n",
       "25347   12-12-2010 10:48       0.85     14800.0  United Kingdom  \n",
       "53009   01-11-2011 13:16       2.54         NaN  United Kingdom  \n",
       "28493     12/13/10 14:16       5.95     17231.0  United Kingdom  \n",
       "210292  06-01-2011 17:30       1.63         NaN  United Kingdom  \n",
       "35494     12/17/10 14:49       3.36         NaN  United Kingdom  \n",
       "209490  06-01-2011 14:12       0.42     14800.0  United Kingdom  \n",
       "238265     6/23/11 15:30       0.83         NaN  United Kingdom  \n",
       "13909   12-06-2010 16:57       3.81         NaN  United Kingdom  \n",
       "146624  04-05-2011 14:38       0.79     17470.0  United Kingdom  \n",
       "149456  04-07-2011 19:49       1.63         NaN  United Kingdom  \n",
       "210078  06-01-2011 17:28       1.63         NaN  United Kingdom  \n",
       "226863     6/14/11 17:28      14.96         NaN  United Kingdom  \n",
       "228471     6/15/11 15:41       4.96         NaN  United Kingdom  \n",
       "84641   02-08-2011 11:27       0.65     14688.0  United Kingdom  \n",
       "119268     3/14/11 14:32       4.25     15005.0  United Kingdom  \n",
       "32832     12/16/10 11:53       2.10     16470.0  United Kingdom  \n",
       "68012      1/23/11 13:34       1.65     13230.0  United Kingdom  \n",
       "47312   01-07-2011 10:00       7.65     16019.0  United Kingdom  \n",
       "155241     4/13/11 15:49       1.45     16348.0  United Kingdom  \n",
       "128979     3/22/11 13:38       1.25     14377.0  United Kingdom  \n",
       "137559     3/29/11 13:43       4.13         NaN  United Kingdom  \n",
       "198265     5/20/11 13:43       2.49     15410.0  United Kingdom  \n",
       "168004      4/26/11 9:50       8.29         NaN  United Kingdom  "
      ]
     },
     "execution_count": 108,
     "metadata": {},
     "output_type": "execute_result"
    }
   ],
   "source": [
    "df.sample(25)"
   ]
  },
  {
   "cell_type": "code",
   "execution_count": 109,
   "id": "cd336eb5-061c-45b9-a6a3-c2fb520e7e12",
   "metadata": {},
   "outputs": [
    {
     "data": {
      "text/plain": [
       "(240007, 8)"
      ]
     },
     "execution_count": 109,
     "metadata": {},
     "output_type": "execute_result"
    }
   ],
   "source": [
    "df.shape"
   ]
  },
  {
   "cell_type": "code",
   "execution_count": 110,
   "id": "b3070f62-60f6-4b1e-95cf-3463537f55b7",
   "metadata": {},
   "outputs": [
    {
     "name": "stdout",
     "output_type": "stream",
     "text": [
      "<class 'pandas.core.frame.DataFrame'>\n",
      "RangeIndex: 240007 entries, 0 to 240006\n",
      "Data columns (total 8 columns):\n",
      " #   Column       Non-Null Count   Dtype  \n",
      "---  ------       --------------   -----  \n",
      " 0   InvoiceNo    240007 non-null  object \n",
      " 1   StockCode    240007 non-null  object \n",
      " 2   Description  239106 non-null  object \n",
      " 3   Quantity     240007 non-null  int64  \n",
      " 4   InvoiceDate  240007 non-null  object \n",
      " 5   UnitPrice    240007 non-null  float64\n",
      " 6   CustomerID   172782 non-null  float64\n",
      " 7   Country      240007 non-null  object \n",
      "dtypes: float64(2), int64(1), object(5)\n",
      "memory usage: 14.6+ MB\n"
     ]
    }
   ],
   "source": [
    "df.info()"
   ]
  },
  {
   "cell_type": "code",
   "execution_count": 111,
   "id": "69224e17-c898-4c3b-9e73-259c945a16a2",
   "metadata": {},
   "outputs": [
    {
     "data": {
      "text/plain": [
       "InvoiceNo          0\n",
       "StockCode          0\n",
       "Description      901\n",
       "Quantity           0\n",
       "InvoiceDate        0\n",
       "UnitPrice          0\n",
       "CustomerID     67225\n",
       "Country            0\n",
       "dtype: int64"
      ]
     },
     "execution_count": 111,
     "metadata": {},
     "output_type": "execute_result"
    }
   ],
   "source": [
    "df.isnull().sum() #Missing values"
   ]
  },
  {
   "cell_type": "code",
   "execution_count": 112,
   "id": "f8e4c2ca-34b3-4411-a92f-c7c8e90ef2c8",
   "metadata": {},
   "outputs": [
    {
     "data": {
      "text/html": [
       "<div>\n",
       "<style scoped>\n",
       "    .dataframe tbody tr th:only-of-type {\n",
       "        vertical-align: middle;\n",
       "    }\n",
       "\n",
       "    .dataframe tbody tr th {\n",
       "        vertical-align: top;\n",
       "    }\n",
       "\n",
       "    .dataframe thead th {\n",
       "        text-align: right;\n",
       "    }\n",
       "</style>\n",
       "<table border=\"1\" class=\"dataframe\">\n",
       "  <thead>\n",
       "    <tr style=\"text-align: right;\">\n",
       "      <th></th>\n",
       "      <th>Quantity</th>\n",
       "      <th>UnitPrice</th>\n",
       "      <th>CustomerID</th>\n",
       "    </tr>\n",
       "  </thead>\n",
       "  <tbody>\n",
       "    <tr>\n",
       "      <th>count</th>\n",
       "      <td>240007.000000</td>\n",
       "      <td>240007.000000</td>\n",
       "      <td>172782.000000</td>\n",
       "    </tr>\n",
       "    <tr>\n",
       "      <th>mean</th>\n",
       "      <td>9.277646</td>\n",
       "      <td>5.124265</td>\n",
       "      <td>15274.819941</td>\n",
       "    </tr>\n",
       "    <tr>\n",
       "      <th>std</th>\n",
       "      <td>223.061608</td>\n",
       "      <td>119.992279</td>\n",
       "      <td>1725.093177</td>\n",
       "    </tr>\n",
       "    <tr>\n",
       "      <th>min</th>\n",
       "      <td>-74215.000000</td>\n",
       "      <td>0.000000</td>\n",
       "      <td>12346.000000</td>\n",
       "    </tr>\n",
       "    <tr>\n",
       "      <th>25%</th>\n",
       "      <td>1.000000</td>\n",
       "      <td>1.250000</td>\n",
       "      <td>13842.000000</td>\n",
       "    </tr>\n",
       "    <tr>\n",
       "      <th>50%</th>\n",
       "      <td>3.000000</td>\n",
       "      <td>2.100000</td>\n",
       "      <td>15132.000000</td>\n",
       "    </tr>\n",
       "    <tr>\n",
       "      <th>75%</th>\n",
       "      <td>10.000000</td>\n",
       "      <td>4.210000</td>\n",
       "      <td>16814.000000</td>\n",
       "    </tr>\n",
       "    <tr>\n",
       "      <th>max</th>\n",
       "      <td>74215.000000</td>\n",
       "      <td>38970.000000</td>\n",
       "      <td>18287.000000</td>\n",
       "    </tr>\n",
       "  </tbody>\n",
       "</table>\n",
       "</div>"
      ],
      "text/plain": [
       "            Quantity      UnitPrice     CustomerID\n",
       "count  240007.000000  240007.000000  172782.000000\n",
       "mean        9.277646       5.124265   15274.819941\n",
       "std       223.061608     119.992279    1725.093177\n",
       "min    -74215.000000       0.000000   12346.000000\n",
       "25%         1.000000       1.250000   13842.000000\n",
       "50%         3.000000       2.100000   15132.000000\n",
       "75%        10.000000       4.210000   16814.000000\n",
       "max     74215.000000   38970.000000   18287.000000"
      ]
     },
     "execution_count": 112,
     "metadata": {},
     "output_type": "execute_result"
    }
   ],
   "source": [
    "df.describe()"
   ]
  },
  {
   "cell_type": "code",
   "execution_count": 113,
   "id": "4e435103-6da6-43bf-b048-3ad20f9f91f4",
   "metadata": {},
   "outputs": [
    {
     "data": {
      "text/html": [
       "<div>\n",
       "<style scoped>\n",
       "    .dataframe tbody tr th:only-of-type {\n",
       "        vertical-align: middle;\n",
       "    }\n",
       "\n",
       "    .dataframe tbody tr th {\n",
       "        vertical-align: top;\n",
       "    }\n",
       "\n",
       "    .dataframe thead th {\n",
       "        text-align: right;\n",
       "    }\n",
       "</style>\n",
       "<table border=\"1\" class=\"dataframe\">\n",
       "  <thead>\n",
       "    <tr style=\"text-align: right;\">\n",
       "      <th></th>\n",
       "      <th>InvoiceNo</th>\n",
       "      <th>StockCode</th>\n",
       "      <th>Description</th>\n",
       "      <th>Quantity</th>\n",
       "      <th>InvoiceDate</th>\n",
       "      <th>UnitPrice</th>\n",
       "      <th>CustomerID</th>\n",
       "      <th>Country</th>\n",
       "    </tr>\n",
       "  </thead>\n",
       "  <tbody>\n",
       "    <tr>\n",
       "      <th>count</th>\n",
       "      <td>240007</td>\n",
       "      <td>240007</td>\n",
       "      <td>239106</td>\n",
       "      <td>240007.000000</td>\n",
       "      <td>240007</td>\n",
       "      <td>240007.000000</td>\n",
       "      <td>172782.000000</td>\n",
       "      <td>240007</td>\n",
       "    </tr>\n",
       "    <tr>\n",
       "      <th>unique</th>\n",
       "      <td>12468</td>\n",
       "      <td>3645</td>\n",
       "      <td>3617</td>\n",
       "      <td>NaN</td>\n",
       "      <td>11240</td>\n",
       "      <td>NaN</td>\n",
       "      <td>NaN</td>\n",
       "      <td>38</td>\n",
       "    </tr>\n",
       "    <tr>\n",
       "      <th>top</th>\n",
       "      <td>537434</td>\n",
       "      <td>85123A</td>\n",
       "      <td>WHITE HANGING HEART T-LIGHT HOLDER</td>\n",
       "      <td>NaN</td>\n",
       "      <td>12-06-2010 16:57</td>\n",
       "      <td>NaN</td>\n",
       "      <td>NaN</td>\n",
       "      <td>United Kingdom</td>\n",
       "    </tr>\n",
       "    <tr>\n",
       "      <th>freq</th>\n",
       "      <td>675</td>\n",
       "      <td>1294</td>\n",
       "      <td>1319</td>\n",
       "      <td>NaN</td>\n",
       "      <td>675</td>\n",
       "      <td>NaN</td>\n",
       "      <td>NaN</td>\n",
       "      <td>220279</td>\n",
       "    </tr>\n",
       "    <tr>\n",
       "      <th>mean</th>\n",
       "      <td>NaN</td>\n",
       "      <td>NaN</td>\n",
       "      <td>NaN</td>\n",
       "      <td>9.277646</td>\n",
       "      <td>NaN</td>\n",
       "      <td>5.124265</td>\n",
       "      <td>15274.819941</td>\n",
       "      <td>NaN</td>\n",
       "    </tr>\n",
       "    <tr>\n",
       "      <th>std</th>\n",
       "      <td>NaN</td>\n",
       "      <td>NaN</td>\n",
       "      <td>NaN</td>\n",
       "      <td>223.061608</td>\n",
       "      <td>NaN</td>\n",
       "      <td>119.992279</td>\n",
       "      <td>1725.093177</td>\n",
       "      <td>NaN</td>\n",
       "    </tr>\n",
       "    <tr>\n",
       "      <th>min</th>\n",
       "      <td>NaN</td>\n",
       "      <td>NaN</td>\n",
       "      <td>NaN</td>\n",
       "      <td>-74215.000000</td>\n",
       "      <td>NaN</td>\n",
       "      <td>0.000000</td>\n",
       "      <td>12346.000000</td>\n",
       "      <td>NaN</td>\n",
       "    </tr>\n",
       "    <tr>\n",
       "      <th>25%</th>\n",
       "      <td>NaN</td>\n",
       "      <td>NaN</td>\n",
       "      <td>NaN</td>\n",
       "      <td>1.000000</td>\n",
       "      <td>NaN</td>\n",
       "      <td>1.250000</td>\n",
       "      <td>13842.000000</td>\n",
       "      <td>NaN</td>\n",
       "    </tr>\n",
       "    <tr>\n",
       "      <th>50%</th>\n",
       "      <td>NaN</td>\n",
       "      <td>NaN</td>\n",
       "      <td>NaN</td>\n",
       "      <td>3.000000</td>\n",
       "      <td>NaN</td>\n",
       "      <td>2.100000</td>\n",
       "      <td>15132.000000</td>\n",
       "      <td>NaN</td>\n",
       "    </tr>\n",
       "    <tr>\n",
       "      <th>75%</th>\n",
       "      <td>NaN</td>\n",
       "      <td>NaN</td>\n",
       "      <td>NaN</td>\n",
       "      <td>10.000000</td>\n",
       "      <td>NaN</td>\n",
       "      <td>4.210000</td>\n",
       "      <td>16814.000000</td>\n",
       "      <td>NaN</td>\n",
       "    </tr>\n",
       "    <tr>\n",
       "      <th>max</th>\n",
       "      <td>NaN</td>\n",
       "      <td>NaN</td>\n",
       "      <td>NaN</td>\n",
       "      <td>74215.000000</td>\n",
       "      <td>NaN</td>\n",
       "      <td>38970.000000</td>\n",
       "      <td>18287.000000</td>\n",
       "      <td>NaN</td>\n",
       "    </tr>\n",
       "  </tbody>\n",
       "</table>\n",
       "</div>"
      ],
      "text/plain": [
       "       InvoiceNo StockCode                         Description       Quantity  \\\n",
       "count     240007    240007                              239106  240007.000000   \n",
       "unique     12468      3645                                3617            NaN   \n",
       "top       537434    85123A  WHITE HANGING HEART T-LIGHT HOLDER            NaN   \n",
       "freq         675      1294                                1319            NaN   \n",
       "mean         NaN       NaN                                 NaN       9.277646   \n",
       "std          NaN       NaN                                 NaN     223.061608   \n",
       "min          NaN       NaN                                 NaN  -74215.000000   \n",
       "25%          NaN       NaN                                 NaN       1.000000   \n",
       "50%          NaN       NaN                                 NaN       3.000000   \n",
       "75%          NaN       NaN                                 NaN      10.000000   \n",
       "max          NaN       NaN                                 NaN   74215.000000   \n",
       "\n",
       "             InvoiceDate      UnitPrice     CustomerID         Country  \n",
       "count             240007  240007.000000  172782.000000          240007  \n",
       "unique             11240            NaN            NaN              38  \n",
       "top     12-06-2010 16:57            NaN            NaN  United Kingdom  \n",
       "freq                 675            NaN            NaN          220279  \n",
       "mean                 NaN       5.124265   15274.819941             NaN  \n",
       "std                  NaN     119.992279    1725.093177             NaN  \n",
       "min                  NaN       0.000000   12346.000000             NaN  \n",
       "25%                  NaN       1.250000   13842.000000             NaN  \n",
       "50%                  NaN       2.100000   15132.000000             NaN  \n",
       "75%                  NaN       4.210000   16814.000000             NaN  \n",
       "max                  NaN   38970.000000   18287.000000             NaN  "
      ]
     },
     "execution_count": 113,
     "metadata": {},
     "output_type": "execute_result"
    }
   ],
   "source": [
    "df.describe(include=\"all\")"
   ]
  },
  {
   "cell_type": "code",
   "execution_count": 114,
   "id": "db62af0b-cbbc-4909-ae5d-bace0aa3b634",
   "metadata": {},
   "outputs": [],
   "source": [
    "df1=df[df[\"Quantity\"]<0]"
   ]
  },
  {
   "cell_type": "code",
   "execution_count": 115,
   "id": "a55bad08-39ae-4289-9931-9d05c3a4341a",
   "metadata": {},
   "outputs": [
    {
     "data": {
      "text/plain": [
       "5087"
      ]
     },
     "execution_count": 115,
     "metadata": {},
     "output_type": "execute_result"
    }
   ],
   "source": [
    "df1.shape[0]"
   ]
  },
  {
   "cell_type": "code",
   "execution_count": 116,
   "id": "2be3068a-4681-480a-91cc-fbef000a218d",
   "metadata": {},
   "outputs": [],
   "source": [
    "df2=df.dropna()"
   ]
  },
  {
   "cell_type": "code",
   "execution_count": 117,
   "id": "923ab049-64f7-4a60-a13e-acccc5e77ed0",
   "metadata": {},
   "outputs": [
    {
     "data": {
      "text/plain": [
       "172782"
      ]
     },
     "execution_count": 117,
     "metadata": {},
     "output_type": "execute_result"
    }
   ],
   "source": [
    "df2.shape[0]"
   ]
  },
  {
   "cell_type": "code",
   "execution_count": 121,
   "id": "f7bbd234-3ba4-4e53-89ea-101e00850730",
   "metadata": {},
   "outputs": [],
   "source": [
    "df[\"CustomerID\"]=df[\"CustomerID\"].fillna(0)"
   ]
  },
  {
   "cell_type": "code",
   "execution_count": 123,
   "id": "46732f0d-4dd6-4ebb-8e0a-d63255383ca8",
   "metadata": {},
   "outputs": [
    {
     "data": {
      "text/html": [
       "<div>\n",
       "<style scoped>\n",
       "    .dataframe tbody tr th:only-of-type {\n",
       "        vertical-align: middle;\n",
       "    }\n",
       "\n",
       "    .dataframe tbody tr th {\n",
       "        vertical-align: top;\n",
       "    }\n",
       "\n",
       "    .dataframe thead th {\n",
       "        text-align: right;\n",
       "    }\n",
       "</style>\n",
       "<table border=\"1\" class=\"dataframe\">\n",
       "  <thead>\n",
       "    <tr style=\"text-align: right;\">\n",
       "      <th></th>\n",
       "      <th>InvoiceNo</th>\n",
       "      <th>StockCode</th>\n",
       "      <th>Description</th>\n",
       "      <th>Quantity</th>\n",
       "      <th>InvoiceDate</th>\n",
       "      <th>UnitPrice</th>\n",
       "      <th>CustomerID</th>\n",
       "      <th>Country</th>\n",
       "    </tr>\n",
       "  </thead>\n",
       "  <tbody>\n",
       "    <tr>\n",
       "      <th>0</th>\n",
       "      <td>536365</td>\n",
       "      <td>85123A</td>\n",
       "      <td>WHITE HANGING HEART T-LIGHT HOLDER</td>\n",
       "      <td>6</td>\n",
       "      <td>12-01-2010 08:26</td>\n",
       "      <td>2.55</td>\n",
       "      <td>17850.0</td>\n",
       "      <td>United Kingdom</td>\n",
       "    </tr>\n",
       "    <tr>\n",
       "      <th>1</th>\n",
       "      <td>536365</td>\n",
       "      <td>71053</td>\n",
       "      <td>WHITE METAL LANTERN</td>\n",
       "      <td>6</td>\n",
       "      <td>12-01-2010 08:26</td>\n",
       "      <td>3.39</td>\n",
       "      <td>17850.0</td>\n",
       "      <td>United Kingdom</td>\n",
       "    </tr>\n",
       "    <tr>\n",
       "      <th>2</th>\n",
       "      <td>536365</td>\n",
       "      <td>84406B</td>\n",
       "      <td>CREAM CUPID HEARTS COAT HANGER</td>\n",
       "      <td>8</td>\n",
       "      <td>12-01-2010 08:26</td>\n",
       "      <td>2.75</td>\n",
       "      <td>17850.0</td>\n",
       "      <td>United Kingdom</td>\n",
       "    </tr>\n",
       "    <tr>\n",
       "      <th>3</th>\n",
       "      <td>536365</td>\n",
       "      <td>84029G</td>\n",
       "      <td>KNITTED UNION FLAG HOT WATER BOTTLE</td>\n",
       "      <td>6</td>\n",
       "      <td>12-01-2010 08:26</td>\n",
       "      <td>3.39</td>\n",
       "      <td>17850.0</td>\n",
       "      <td>United Kingdom</td>\n",
       "    </tr>\n",
       "    <tr>\n",
       "      <th>4</th>\n",
       "      <td>536365</td>\n",
       "      <td>84029E</td>\n",
       "      <td>RED WOOLLY HOTTIE WHITE HEART.</td>\n",
       "      <td>6</td>\n",
       "      <td>12-01-2010 08:26</td>\n",
       "      <td>3.39</td>\n",
       "      <td>17850.0</td>\n",
       "      <td>United Kingdom</td>\n",
       "    </tr>\n",
       "  </tbody>\n",
       "</table>\n",
       "</div>"
      ],
      "text/plain": [
       "  InvoiceNo StockCode                          Description  Quantity  \\\n",
       "0    536365    85123A   WHITE HANGING HEART T-LIGHT HOLDER         6   \n",
       "1    536365     71053                  WHITE METAL LANTERN         6   \n",
       "2    536365    84406B       CREAM CUPID HEARTS COAT HANGER         8   \n",
       "3    536365    84029G  KNITTED UNION FLAG HOT WATER BOTTLE         6   \n",
       "4    536365    84029E       RED WOOLLY HOTTIE WHITE HEART.         6   \n",
       "\n",
       "        InvoiceDate  UnitPrice  CustomerID         Country  \n",
       "0  12-01-2010 08:26       2.55     17850.0  United Kingdom  \n",
       "1  12-01-2010 08:26       3.39     17850.0  United Kingdom  \n",
       "2  12-01-2010 08:26       2.75     17850.0  United Kingdom  \n",
       "3  12-01-2010 08:26       3.39     17850.0  United Kingdom  \n",
       "4  12-01-2010 08:26       3.39     17850.0  United Kingdom  "
      ]
     },
     "execution_count": 123,
     "metadata": {},
     "output_type": "execute_result"
    }
   ],
   "source": [
    "df.head()"
   ]
  },
  {
   "cell_type": "code",
   "execution_count": 124,
   "id": "0e57db33-b62e-418c-b66e-469a2ae867b2",
   "metadata": {},
   "outputs": [
    {
     "data": {
      "text/plain": [
       "(240007, 8)"
      ]
     },
     "execution_count": 124,
     "metadata": {},
     "output_type": "execute_result"
    }
   ],
   "source": [
    "df.shape"
   ]
  },
  {
   "cell_type": "code",
   "execution_count": 125,
   "id": "80ccfac7-b45a-40dd-987f-4ba4e6af68a7",
   "metadata": {},
   "outputs": [
    {
     "data": {
      "text/plain": [
       "InvoiceNo       object\n",
       "StockCode       object\n",
       "Description     object\n",
       "Quantity         int64\n",
       "InvoiceDate     object\n",
       "UnitPrice      float64\n",
       "CustomerID     float64\n",
       "Country         object\n",
       "dtype: object"
      ]
     },
     "execution_count": 125,
     "metadata": {},
     "output_type": "execute_result"
    }
   ],
   "source": [
    "df.dtypes"
   ]
  },
  {
   "cell_type": "code",
   "execution_count": 126,
   "id": "e9e34ab4-bf83-4f42-ac02-c5d44dfe4613",
   "metadata": {},
   "outputs": [
    {
     "data": {
      "text/plain": [
       "array(['536365', '536366', '536367', ..., '558075', '558076', '558077'],\n",
       "      dtype=object)"
      ]
     },
     "execution_count": 126,
     "metadata": {},
     "output_type": "execute_result"
    }
   ],
   "source": [
    "df[\"InvoiceNo\"].unique() # not working because of somany unique values"
   ]
  },
  {
   "cell_type": "code",
   "execution_count": 128,
   "id": "f8a26a24-3ce6-4fb4-97e6-dc97c185d418",
   "metadata": {},
   "outputs": [
    {
     "data": {
      "text/plain": [
       "array([  2.55,   3.39,   2.75, ..., 542.2 , 150.77, 150.71])"
      ]
     },
     "execution_count": 128,
     "metadata": {},
     "output_type": "execute_result"
    }
   ],
   "source": [
    "df[\"UnitPrice\"].unique()"
   ]
  },
  {
   "cell_type": "code",
   "execution_count": 131,
   "id": "792eb20a-fbd8-49eb-b805-1a24965a4e65",
   "metadata": {},
   "outputs": [],
   "source": [
    "df['InvoiceDate'] = pd.to_datetime(df['InvoiceDate'], format='mixed')"
   ]
  },
  {
   "cell_type": "code",
   "execution_count": 132,
   "id": "96a9c327-2cce-4a8b-a6aa-1aa98f3b3ebe",
   "metadata": {},
   "outputs": [
    {
     "data": {
      "text/plain": [
       "InvoiceNo              object\n",
       "StockCode              object\n",
       "Description            object\n",
       "Quantity                int64\n",
       "InvoiceDate    datetime64[ns]\n",
       "UnitPrice             float64\n",
       "CustomerID            float64\n",
       "Country                object\n",
       "dtype: object"
      ]
     },
     "execution_count": 132,
     "metadata": {},
     "output_type": "execute_result"
    }
   ],
   "source": [
    "df.dtypes"
   ]
  },
  {
   "cell_type": "code",
   "execution_count": null,
   "id": "9b932efd-31fe-494b-a6d2-04a862b94695",
   "metadata": {},
   "outputs": [],
   "source": []
  },
  {
   "cell_type": "code",
   "execution_count": null,
   "id": "7abdbc8a-2177-4fe8-b4aa-911dbf8bbbd3",
   "metadata": {},
   "outputs": [],
   "source": []
  },
  {
   "cell_type": "code",
   "execution_count": null,
   "id": "6b00c9cd-59a6-4b65-97b1-17985e180a80",
   "metadata": {},
   "outputs": [],
   "source": []
  },
  {
   "cell_type": "code",
   "execution_count": null,
   "id": "dab75b2a-6779-48c5-8f39-8c9222c69cd1",
   "metadata": {},
   "outputs": [],
   "source": []
  },
  {
   "cell_type": "code",
   "execution_count": null,
   "id": "78b1a487-f854-4e87-8fa6-6b715a5d5ab3",
   "metadata": {},
   "outputs": [],
   "source": []
  },
  {
   "cell_type": "code",
   "execution_count": null,
   "id": "35512d75-5afd-49ae-84c4-14dc537d8cfd",
   "metadata": {},
   "outputs": [],
   "source": []
  },
  {
   "cell_type": "code",
   "execution_count": null,
   "id": "69400cc9-69c3-4578-8436-8b7a6e265b66",
   "metadata": {},
   "outputs": [],
   "source": []
  },
  {
   "cell_type": "code",
   "execution_count": null,
   "id": "50d320ba-1ecd-49dc-af6a-298d350c95de",
   "metadata": {},
   "outputs": [],
   "source": []
  },
  {
   "cell_type": "code",
   "execution_count": null,
   "id": "a01a198f-501b-429c-a5de-6e795610406c",
   "metadata": {},
   "outputs": [],
   "source": []
  },
  {
   "cell_type": "code",
   "execution_count": null,
   "id": "a0a804e8-8809-4696-b985-b5159a46b521",
   "metadata": {},
   "outputs": [],
   "source": []
  },
  {
   "cell_type": "code",
   "execution_count": null,
   "id": "009d26c7-7b7b-4a4e-bd9c-b64ee984562f",
   "metadata": {},
   "outputs": [],
   "source": []
  },
  {
   "cell_type": "code",
   "execution_count": null,
   "id": "5f5e52c8-fc88-42c6-8a9a-84113775c9a5",
   "metadata": {},
   "outputs": [],
   "source": []
  },
  {
   "cell_type": "code",
   "execution_count": null,
   "id": "2e2dc2f6-0896-4f33-a0ea-424b0e36a3fd",
   "metadata": {},
   "outputs": [],
   "source": []
  }
 ],
 "metadata": {
  "kernelspec": {
   "display_name": "Python 3 (ipykernel)",
   "language": "python",
   "name": "python3"
  },
  "language_info": {
   "codemirror_mode": {
    "name": "ipython",
    "version": 3
   },
   "file_extension": ".py",
   "mimetype": "text/x-python",
   "name": "python",
   "nbconvert_exporter": "python",
   "pygments_lexer": "ipython3",
   "version": "3.11.7"
  }
 },
 "nbformat": 4,
 "nbformat_minor": 5
}
